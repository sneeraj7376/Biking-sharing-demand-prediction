{
  "nbformat": 4,
  "nbformat_minor": 0,
  "metadata": {
    "colab": {
      "private_outputs": true,
      "provenance": [],
      "collapsed_sections": [
        "vncDsAP0Gaoa",
        "FJNUwmbgGyua",
        "w6K7xa23Elo4",
        "yQaldy8SH6Dl",
        "mDgbUHAGgjLW",
        "O_i_v8NEhb9l",
        "HhfV-JJviCcP",
        "Y3lxredqlCYt",
        "3RnN4peoiCZX",
        "x71ZqKXriCWQ",
        "7hBIi_osiCS2",
        "JlHwYmJAmNHm",
        "35m5QtbWiB9F",
        "PoPl-ycgm1ru",
        "H0kj-8xxnORC",
        "nA9Y7ga8ng1Z",
        "PBTbrJXOngz2",
        "u3PMJOP6ngxN",
        "dauF4eBmngu3",
        "bKJF3rekwFvQ",
        "MSa1f5Uengrz",
        "GF8Ens_Soomf",
        "0wOQAZs5pc--",
        "K5QZ13OEpz2H",
        "lQ7QKXXCp7Bj",
        "448CDAPjqfQr",
        "KSlN3yHqYklG",
        "t6dVpIINYklI",
        "ijmpgYnKYklI",
        "-JiQyfWJYklI",
        "EM7whBJCYoAo",
        "fge-S5ZAYoAp",
        "85gYPyotYoAp",
        "RoGjAbkUYoAp",
        "4Of9eVA-YrdM",
        "iky9q4vBYrdO",
        "F6T5p64dYrdO",
        "y-Ehk30pYrdP",
        "bamQiAODYuh1",
        "QHF8YVU7Yuh3",
        "GwzvFGzlYuh3",
        "qYpmQ266Yuh3",
        "OH-pJp9IphqM",
        "bbFf2-_FphqN",
        "_ouA3fa0phqN",
        "Seke61FWphqN",
        "PIIx-8_IphqN",
        "t27r6nlMphqO",
        "r2jJGEOYphqO",
        "b0JNsNcRphqO",
        "BZR9WyysphqO",
        "jj7wYXLtphqO",
        "eZrbJ2SmphqO",
        "rFu4xreNphqO",
        "YJ55k-q6phqO",
        "gCFgpxoyphqP",
        "OVtJsKN_phqQ",
        "lssrdh5qphqQ",
        "U2RJ9gkRphqQ",
        "1M8mcRywphqQ",
        "tgIPom80phqQ",
        "JMzcOPDDphqR",
        "x-EpHcCOp1ci",
        "X_VqEhTip1ck",
        "8zGJKyg5p1ck",
        "PVzmfK_Ep1ck",
        "n3dbpmDWp1ck",
        "ylSl6qgtp1ck",
        "ZWILFDl5p1ck",
        "M7G43BXep1ck",
        "Ag9LCva-p1cl",
        "E6MkPsBcp1cl",
        "2cELzS2fp1cl",
        "3MPXvC8up1cl",
        "NC_X3p0fY2L0",
        "UV0SzAkaZNRQ",
        "YPEH6qLeZNRQ",
        "q29F0dvdveiT",
        "EXh0U9oCveiU",
        "22aHeOlLveiV",
        "g-ATYxFrGrvw",
        "Yfr_Vlr8HBkt",
        "8yEUt7NnHlrM",
        "tEA2Xm5dHt1r",
        "I79__PHVH19G",
        "Ou-I18pAyIpj",
        "fF3858GYyt-u",
        "4_0_7-oCpUZd",
        "hwyV_J3ipUZe",
        "3yB-zSqbpUZe",
        "dEUvejAfpUZe",
        "Fd15vwWVpUZf",
        "bn_IUdTipZyH",
        "49K5P_iCpZyH",
        "Nff-vKELpZyI",
        "kLW572S8pZyI",
        "dWbDXHzopZyI",
        "yLjJCtPM0KBk",
        "xiyOF9F70UgQ",
        "7wuGOrhz0itI",
        "id1riN9m0vUs",
        "578E2V7j08f6",
        "89xtkJwZ18nB",
        "67NQN5KX2AMe",
        "Iwf50b-R2tYG",
        "GMQiZwjn3iu7",
        "WVIkgGqN3qsr",
        "XkPnILGE3zoT",
        "Hlsf0x5436Go",
        "mT9DMSJo4nBL",
        "c49ITxTc407N",
        "OeJFEK0N496M",
        "9ExmJH0g5HBk",
        "cJNqERVU536h",
        "k5UmGsbsOxih",
        "T0VqWOYE6DLQ",
        "qBMux9mC6MCf",
        "-oLEiFgy-5Pf",
        "C74aWNz2AliB",
        "2DejudWSA-a0",
        "pEMng2IbBLp7",
        "rAdphbQ9Bhjc",
        "TNVZ9zx19K6k",
        "nqoHp30x9hH9",
        "rMDnDkt2B6du",
        "yiiVWRdJDDil",
        "1UUpS68QDMuG",
        "kexQrXU-DjzY",
        "T5CmagL3EC8N",
        "BhH2vgX9EjGr",
        "qjKvONjwE8ra",
        "P1XJ9OREExlT",
        "VFOzZv6IFROw",
        "TIqpNgepFxVj",
        "VfCC591jGiD4",
        "OB4l2ZhMeS1U",
        "ArJBuiUVfxKd",
        "4qY1EAkEfxKe",
        "PiV4Ypx8fxKe",
        "TfvqoZmBfxKf",
        "dJ2tPlVmpsJ0",
        "JWYfwnehpsJ1",
        "-jK_YjpMpsJ2",
        "HAih1iBOpsJ2",
        "zVGeBEFhpsJ2",
        "bmKjuQ-FpsJ3",
        "Fze-IPXLpx6K",
        "7AN1z2sKpx6M",
        "9PIHJqyupx6M",
        "_-qAgymDpx6N",
        "Z-hykwinpx6N",
        "h_CCil-SKHpo",
        "cBFFvTBNJzUa",
        "HvGl1hHyA_VK",
        "EyNgTHvd2WFk",
        "KH5McJBi2d8v",
        "iW_Lq9qf2h6X",
        "-Kee-DAl2viO",
        "gCX9965dhzqZ",
        "gIfDvo9L0UH2"
      ],
      "include_colab_link": true
    },
    "kernelspec": {
      "name": "python3",
      "display_name": "Python 3"
    },
    "language_info": {
      "name": "python"
    }
  },
  "cells": [
    {
      "cell_type": "markdown",
      "metadata": {
        "id": "view-in-github",
        "colab_type": "text"
      },
      "source": [
        "<a href=\"https://colab.research.google.com/github/sneeraj7376/Biking-sharing-demand-prediction/blob/main/Bike_sharing_Demand_Prediction.ipynb\" target=\"_parent\"><img src=\"https://colab.research.google.com/assets/colab-badge.svg\" alt=\"Open In Colab\"/></a>"
      ]
    },
    {
      "cell_type": "markdown",
      "source": [
        "# **Project Name**    - Bike Sharing Demand Prediction\n",
        "\n"
      ],
      "metadata": {
        "id": "vncDsAP0Gaoa"
      }
    },
    {
      "cell_type": "markdown",
      "source": [
        "##### **Project Type**    - EDA/Regression/Classification/Unsupervised\n",
        "##### **Contribution**    - Individual\n",
        "##### **Team Member 1 -** Neeraj Kumar singh"
      ],
      "metadata": {
        "id": "beRrZCGUAJYm"
      }
    },
    {
      "cell_type": "markdown",
      "source": [
        "# **Project Summary -**"
      ],
      "metadata": {
        "id": "FJNUwmbgGyua"
      }
    },
    {
      "cell_type": "markdown",
      "source": [
        "Bike demand prediction is a common problem faced by bike rental companies, as accurately forecasting the demand for bikes can help\n",
        "optimize inventory and pricing strategies. In this project, I aim to develop a regression supervised machine learning model to predict the\n",
        "demand for bikes in a given time period.\n",
        "\n",
        "Originally dataset of bike rental information from a bike sharing company, had information including details on the number of bikes rented, the\n",
        "time and date of the rental, and various weather and seasonality features, information on other relevant factors that could impact bike demand,\n",
        "such as holidays, functioning or non functioning day.\n",
        "\n",
        "After preprocessing and cleaning the date, I split it into training and test sets and used the training date to train our machine learning model. I\n",
        "experimented with several different model architectures and hyperparamater settings, ultimataty secting the model that performed the best\n",
        "on the test data.\n",
        "\n",
        "To evaluate the performance of our model used a variety of metrice including mean absolute error, root mean squered error, and R-aquared. I\n",
        "found that our model was able to make highly accurate predictions with an R-aquared value of 0.88 and a mean absolute error of just 2.58.\n",
        "In addition to evaluating the performance of our model on the lest deta, i also conducted a series of ablation studies to understand the impact\n",
        "of individual features on the model's performance, I found that the temperature, as well as the weather and seasonality features, had the\n",
        "greatest impact on bike demand.\n",
        "\n",
        "Finally, I deployed our model in a live production selling and monitored its performance over time. I found that the model was able to accurately\n",
        "predict bike demand in real-time, enabling the bike sharing company to make informed decisions about inventory and pricing."
      ],
      "metadata": {
        "id": "F6v_1wHtG2nS"
      }
    },
    {
      "cell_type": "markdown",
      "source": [
        "# **GitHub Link -**"
      ],
      "metadata": {
        "id": "w6K7xa23Elo4"
      }
    },
    {
      "cell_type": "markdown",
      "source": [
        "Provide your GitHub Link here."
      ],
      "metadata": {
        "id": "h1o69JH3Eqqn"
      }
    },
    {
      "cell_type": "markdown",
      "source": [
        "# **Problem Statement**\n"
      ],
      "metadata": {
        "id": "yQaldy8SH6Dl"
      }
    },
    {
      "cell_type": "markdown",
      "source": [
        "Currently Rental bikes are introduced in many urban cities for the enhancement of mobility comfort. It is important to make the rental bike\n",
        "available and accessible to the public at the right time as it lessons the waiting time. Eventually, providing the city with a stable supply of rental\n",
        "bikes becomes a major concern. The crucial part is the prediction of bike count required at each hour for the stable supply of rental bikes.\n",
        "\n",
        "> My goal is to develop a model that is highly accurate, with a low mean absolute error and a high R-squared value. The model should also be able to provide insights into the factors that most impact bike demand, helping the bike sharing company to make\n",
        "data-driven decisions about how to optimize their operations.\n",
        "\n"
      ],
      "metadata": {
        "id": "DpeJGUA3kjGy"
      }
    },
    {
      "cell_type": "markdown",
      "source": [
        "# **General Guidelines** : -  "
      ],
      "metadata": {
        "id": "mDgbUHAGgjLW"
      }
    },
    {
      "cell_type": "markdown",
      "source": [
        "1.   Well-structured, formatted, and commented code is required.\n",
        "2.   Exception Handling, Production Grade Code & Deployment Ready Code will be a plus. Those students will be awarded some additional credits.\n",
        "     \n",
        "     The additional credits will have advantages over other students during Star Student selection.\n",
        "       \n",
        "             [ Note: - Deployment Ready Code is defined as, the whole .ipynb notebook should be executable in one go\n",
        "                       without a single error logged. ]\n",
        "\n",
        "3.   Each and every logic should have proper comments.\n",
        "4. You may add as many number of charts you want. Make Sure for each and every chart the following format should be answered.\n",
        "        \n",
        "\n",
        "```\n",
        "# Chart visualization code\n",
        "```\n",
        "            \n",
        "\n",
        "*   Why did you pick the specific chart?\n",
        "*   What is/are the insight(s) found from the chart?\n",
        "* Will the gained insights help creating a positive business impact?\n",
        "Are there any insights that lead to negative growth? Justify with specific reason.\n",
        "\n",
        "5. You have to create at least 15 logical & meaningful charts having important insights.\n",
        "\n",
        "\n",
        "[ Hints : - Do the Vizualization in  a structured way while following \"UBM\" Rule.\n",
        "\n",
        "U - Univariate Analysis,\n",
        "\n",
        "B - Bivariate Analysis (Numerical - Categorical, Numerical - Numerical, Categorical - Categorical)\n",
        "\n",
        "M - Multivariate Analysis\n",
        " ]\n",
        "\n",
        "\n",
        "\n",
        "\n",
        "\n",
        "6. You may add more ml algorithms for model creation. Make sure for each and every algorithm, the following format should be answered.\n",
        "\n",
        "\n",
        "*   Explain the ML Model used and it's performance using Evaluation metric Score Chart.\n",
        "\n",
        "\n",
        "*   Cross- Validation & Hyperparameter Tuning\n",
        "\n",
        "*   Have you seen any improvement? Note down the improvement with updates Evaluation metric Score Chart.\n",
        "\n",
        "*   Explain each evaluation metric's indication towards business and the business impact pf the ML model used.\n",
        "\n",
        "\n",
        "\n",
        "\n",
        "\n",
        "\n",
        "\n",
        "\n",
        "\n",
        "\n",
        "\n",
        "\n",
        "\n",
        "\n",
        "\n",
        "\n",
        "\n",
        "\n"
      ],
      "metadata": {
        "id": "ZrxVaUj-hHfC"
      }
    },
    {
      "cell_type": "markdown",
      "source": [
        "# ***Let's Begin !***"
      ],
      "metadata": {
        "id": "O_i_v8NEhb9l"
      }
    },
    {
      "cell_type": "markdown",
      "source": [
        "## ***1. Know Your Data***"
      ],
      "metadata": {
        "id": "HhfV-JJviCcP"
      }
    },
    {
      "cell_type": "markdown",
      "source": [
        "### Import Libraries"
      ],
      "metadata": {
        "id": "Y3lxredqlCYt"
      }
    },
    {
      "cell_type": "code",
      "source": [
        "# Import Libraries\n",
        "#adata visualization libraries (matplotlib, seaborn, plotly)\n",
        "import pandas as pd\n",
        "import numpy as np\n",
        "import matplotlib.pyplot as plt\n",
        "%matplotlib inline\n",
        "import seaborn as sns\n",
        "# Datetime library for manipulating Date columns.\n",
        "from datetime import datetime\n",
        "import datetime as dt\n",
        "\n",
        "#from sci-kit library scaling, transforming and labeling functions are brought\n",
        "#which is used to change raw feature vectors into a representation that is more\n",
        "#suitable for the downstream estimators.\n",
        "from sklearn.preprocessing import MinMaxScaler\n",
        "from sklearn.preprocessing import OneHotEncoder\n",
        "from sklearn.preprocessing import MultiLabelBinarizer\n",
        "# Importing various machine learning models..\n",
        "from sklearn.linear_model import LinearRegression\n",
        "from sklearn.linear_model import Lasso\n",
        "from sklearn.linear_model import Ridge\n",
        "from sklearn.linear_model import ElasticNet\n",
        "from sklearn.tree import DecisionTreeRegressor\n",
        "from sklearn.ensemble import RandomForestRegressor\n",
        "from sklearn.ensemble import GradientBoostingRegressor\n",
        "\n",
        "from sklearn.model_selection import cross_validate\n",
        "from sklearn.model_selection import train_test_split\n",
        "from sklearn.model_selection import GridSearchCV\n",
        "from sklearn.model_selection import cross_val_score\n",
        "from sklearn.model_selection import RepeatedStratifiedKFold\n",
        "from sklearn.model_selection import RandomizedSearchCV\n",
        "\n",
        "# Import different metrics from sci-kit libraries for model evaluation.\n",
        "from sklearn import metrics\n",
        "from sklearn.metrics import r2_score\n",
        "from sklearn.metrics import mean_squared_error\n",
        "from sklearn.metrics import accuracy_score\n",
        "from sklearn.metrics import mean_absolute_error\n",
        "from sklearn.metrics import log_loss\n",
        "\n",
        "#Importing warnings library The warnings module handles warnings in Python.\n",
        "import warnings\n",
        "warnings.filterwarnings('ignore')"
      ],
      "metadata": {
        "id": "M8Vqi-pPk-HR"
      },
      "execution_count": null,
      "outputs": []
    },
    {
      "cell_type": "markdown",
      "source": [
        "### Dataset Loading"
      ],
      "metadata": {
        "id": "3RnN4peoiCZX"
      }
    },
    {
      "cell_type": "markdown",
      "source": [
        "### Mount the drive and import the dataset"
      ],
      "metadata": {
        "id": "nzlTLFCmJ9ki"
      }
    },
    {
      "cell_type": "code",
      "source": [
        "from google.colab import drive\n",
        "drive.mount('/content/drive')"
      ],
      "metadata": {
        "id": "4CkvbW_SlZ_R"
      },
      "execution_count": null,
      "outputs": []
    },
    {
      "cell_type": "code",
      "source": [
        "# load the seol bike dataset from drive\n",
        "bike_df=pd.read_csv('/content/SeoulBikeData.csv',encoding ='latin')"
      ],
      "metadata": {
        "id": "8N4i4s6yMuDe"
      },
      "execution_count": null,
      "outputs": []
    },
    {
      "cell_type": "markdown",
      "source": [
        "### Dataset First View"
      ],
      "metadata": {
        "id": "x71ZqKXriCWQ"
      }
    },
    {
      "cell_type": "code",
      "source": [
        "# Dataset First Look\n",
        "bike_df.head()"
      ],
      "metadata": {
        "id": "LWNFOSvLl09H"
      },
      "execution_count": null,
      "outputs": []
    },
    {
      "cell_type": "code",
      "source": [
        "# Viewing the data of bottom 5 rows to take a glimps of the data\n",
        "bike_df.tail()"
      ],
      "metadata": {
        "id": "lqo59qY8OFxY"
      },
      "execution_count": null,
      "outputs": []
    },
    {
      "cell_type": "markdown",
      "source": [
        "### Dataset Rows & Columns count"
      ],
      "metadata": {
        "id": "7hBIi_osiCS2"
      }
    },
    {
      "cell_type": "code",
      "source": [
        "# Dataset Rows & Columns count\n",
        "print(bike_df.shape)"
      ],
      "metadata": {
        "id": "Kllu7SJgmLij"
      },
      "execution_count": null,
      "outputs": []
    },
    {
      "cell_type": "code",
      "source": [
        "# Getting all the columns\n",
        "print(\"feature of the dataset:\")\n",
        "bike_df.columns"
      ],
      "metadata": {
        "id": "l5dqxtJZOesD"
      },
      "execution_count": null,
      "outputs": []
    },
    {
      "cell_type": "markdown",
      "source": [
        "### Dataset Information"
      ],
      "metadata": {
        "id": "JlHwYmJAmNHm"
      }
    },
    {
      "cell_type": "code",
      "source": [
        "# Dataset Info\n",
        "bike_df.info()"
      ],
      "metadata": {
        "id": "e9hRXRi6meOf"
      },
      "execution_count": null,
      "outputs": []
    },
    {
      "cell_type": "markdown",
      "source": [
        "#### Duplicate Values"
      ],
      "metadata": {
        "id": "35m5QtbWiB9F"
      }
    },
    {
      "cell_type": "code",
      "source": [
        "# Dataset Duplicate Value Count\n",
        "print(f\"Data is duplicated ? {bike_df.duplicated().value_counts()},unique values with {len(bike_df[bike_df.duplicated()])} duplication\")"
      ],
      "metadata": {
        "id": "1sLdpKYkmox0"
      },
      "execution_count": null,
      "outputs": []
    },
    {
      "cell_type": "markdown",
      "source": [
        "# Check Unique Values for each variables"
      ],
      "metadata": {
        "id": "GUy3kWNSPnLW"
      }
    },
    {
      "cell_type": "code",
      "source": [
        "# Check unique values for each variable.\n",
        "\n",
        "# bike_df.unique()\n",
        "for i in bike_df.columns.tolist():\n",
        "  print(f\"No. of Unique in {i} is {bike_df[i].nunique()}.\")"
      ],
      "metadata": {
        "id": "nGY45mO6PwS_"
      },
      "execution_count": null,
      "outputs": []
    },
    {
      "cell_type": "markdown",
      "source": [
        "#### Missing Values/Null Values"
      ],
      "metadata": {
        "id": "PoPl-ycgm1ru"
      }
    },
    {
      "cell_type": "code",
      "source": [
        "# Missing Values/Null Values Count\n",
        "bike_df.isnull().sum()"
      ],
      "metadata": {
        "id": "GgHWkxvamxVg"
      },
      "execution_count": null,
      "outputs": []
    },
    {
      "cell_type": "code",
      "source": [
        "# Visualizing the missing values\n",
        "# Checking Null Value by plotting Heatmap\n",
        "sns.heatmap(bike_df.isnull(), cbar=False);"
      ],
      "metadata": {
        "id": "3q5wnI3om9sJ"
      },
      "execution_count": null,
      "outputs": []
    },
    {
      "cell_type": "markdown",
      "source": [
        "### What did you know about your dataset?"
      ],
      "metadata": {
        "id": "H0kj-8xxnORC"
      }
    },
    {
      "cell_type": "markdown",
      "source": [
        "* There are 8760 observation and 14 features.\n",
        "* In a day we have 24 hours and we have 365 days a year so 365 multiplied by 24-8760, which represents the number of line in the dataset\n",
        "* There are no null values.\n",
        "* Dataset has all unique values i.e., there is no duplicate, which means data is free from bias as duplicates which can cause problems in\n",
        "downstream analysis, such as biasing results or making it difficult to accurately summarize the data.\n",
        "* Date has some object data types, it should be datetime data type."
      ],
      "metadata": {
        "id": "gfoNAAC-nUe_"
      }
    },
    {
      "cell_type": "markdown",
      "source": [
        "## ***2. Understanding Your Variables***"
      ],
      "metadata": {
        "id": "nA9Y7ga8ng1Z"
      }
    },
    {
      "cell_type": "code",
      "source": [
        "# Dataset Columns\n",
        "print(f'Feature: {bike_df.columns.to_list()}')"
      ],
      "metadata": {
        "id": "j7xfkqrt5Ag5"
      },
      "execution_count": null,
      "outputs": []
    },
    {
      "cell_type": "code",
      "source": [
        "# Dataset Describe\n",
        "bike_df.describe()"
      ],
      "metadata": {
        "id": "DnOaZdaE5Q5t"
      },
      "execution_count": null,
      "outputs": []
    },
    {
      "cell_type": "markdown",
      "source": [
        "### Feature Description"
      ],
      "metadata": {
        "id": "PBTbrJXOngz2"
      }
    },
    {
      "cell_type": "markdown",
      "source": [
        "**Breakdown of Our Features:**\n",
        "\n",
        "**Date:** The date of the day, during 365 days from 01/12/2017 to 30/11/2018, formating in DD/MM/YYYY, type: str, we need to convert into\n",
        "datetime format.\n",
        "\n",
        "**Rented Bike Count:** Number of rented bikes per hour which our dependent variable and we need to predict that, type: int\n",
        "\n",
        "**Hour:** The hour of the day, starting from 0-23 it's in a digital time format, type: int, we need to convert it into category data type.\n",
        "\n",
        "**Temperature(\"C):** Temperature in Celsius, type: Float\n",
        "\n",
        "**Humidity (%):** Humidity in the air in %, type: int\n",
        "\n",
        "**Wind speed (m/s):** Speed of the wind in m/s, type: Float\n",
        "\n",
        "**Visibility (10m):** Visibility in m, type: int\n",
        "\n",
        "**Dew point temperature(\"C):** Temperature at the beggining of the day, type: Float\n",
        "\n",
        "**Solar Radiation (MJ/m2):** Sun contribution, type: Float\n",
        "\n",
        "**Rainfall (mm):** Amount of raining in mm, type: Float\n",
        "\n",
        "**Snowfall (cm):** Amount of snowing in cm, type: Float\n",
        "\n",
        "**Seasons:** \"Season of the year, type: str, there are only 4 season's in data\"\n",
        ".\n",
        "**Holiday:** If the day is holiday period or not, type: str\n",
        "\n",
        "**Functioning Day:** If the day is a Functioning Day or not, type: str"
      ],
      "metadata": {
        "id": "aJV4KIxSnxay"
      }
    },
    {
      "cell_type": "markdown",
      "source": [
        "### Preprocessing the dataset"
      ],
      "metadata": {
        "id": "7LsTHtxxOxQ0"
      }
    },
    {
      "cell_type": "markdown",
      "source": [
        "Why do we need to handle missing values?\n",
        "\n",
        "• The real-world data often has a lot of missing values. The cause of missing values can be data corruption or failure to record data. The\n",
        "handling of missing data is very important during the preprocessing of the dataset as many machine learning algorithms do not support\n",
        "missing values.that's why we check missing values first\n",
        "\n",
        "\n",
        "\n"
      ],
      "metadata": {
        "id": "7MmdernvPkAV"
      }
    },
    {
      "cell_type": "markdown",
      "source": [
        "### Missing Values/Null Values"
      ],
      "metadata": {
        "id": "oNnz_Y9vQxcJ"
      }
    },
    {
      "cell_type": "code",
      "source": [
        "# Missing Values/Null Values Count\n",
        "bike_df.isnull().sum()"
      ],
      "metadata": {
        "id": "4K6d8XGUOwaF"
      },
      "execution_count": null,
      "outputs": []
    },
    {
      "cell_type": "code",
      "source": [
        "# visualizing the missing values\n",
        "missing = pd.DataFrame((bike_df.isnull().sum())*100/bike_df.shape[0]).reset_index()\n",
        "plt.figure(figsize=(16,5))\n",
        "ax= sns.pointplot (x='index', y=0, data=missing)\n",
        "plt.xticks (rotation=90, fontsize=7)\n",
        "plt.title(\"Percentage of Missing values\")\n",
        "plt.ylabel(\"PERCENTAGE\")\n",
        "plt.show()"
      ],
      "metadata": {
        "id": "IfwQxq8hRDZ2"
      },
      "execution_count": null,
      "outputs": []
    },
    {
      "cell_type": "markdown",
      "source": [
        "* As we can see above there are no missing value presents thankfully."
      ],
      "metadata": {
        "id": "KGjT7xIWR2yo"
      }
    },
    {
      "cell_type": "markdown",
      "source": [
        "# Duplicate Values"
      ],
      "metadata": {
        "id": "NmP3W9pnSDEa"
      }
    },
    {
      "cell_type": "markdown",
      "source": [
        "Why is it important to remove duplicate records from my data?\n",
        "\n",
        "* \"Duplication just means that you have repeated data in your dataset. This could be due to things like data entry errors or data collection\n",
        "methods. by removing duplication in our data set, Time and money are saved by not sending identical communications multiple times to\n",
        "the same person."
      ],
      "metadata": {
        "id": "SkrrZXdFSHRx"
      }
    },
    {
      "cell_type": "code",
      "source": [
        "# Checking Duplicate Values\n",
        "value = len(bike_df[bike_df.duplicated()])\n",
        "print(\"The number of duplicate values in the data set is =\",value)"
      ],
      "metadata": {
        "id": "Z4kXsJqtSQNY"
      },
      "execution_count": null,
      "outputs": []
    },
    {
      "cell_type": "markdown",
      "source": [
        "* In the above data after count the missing and duplicate value we came to know that there are no missing and duplicate value present.\n",
        "* Some of the columns name in the dataset are too large and clumsy so we change the the into some simple name, and it don't affect our\n",
        "end results."
      ],
      "metadata": {
        "id": "3YT0JJI7TT3o"
      }
    },
    {
      "cell_type": "markdown",
      "source": [
        "# Changing Column name"
      ],
      "metadata": {
        "id": "EGJxYkuVTZTO"
      }
    },
    {
      "cell_type": "code",
      "source": [
        "#Rename the complex columns name\n",
        "bike_df=bike_df.rename(columns={'Rented Bike Count': 'Rented_Bike_Count',\n",
        "                                'Temperature(°C)': 'Temperature',\n",
        "                                'Humidity(%)': 'Humidity',\n",
        "                                'Wind speed (m/s)': 'Wind_speed',\n",
        "                                'Visibility (10m)': 'Visibility',\n",
        "                                'Dew point temperature(°C)': 'Dew_point_temperature',\n",
        "                                'Solar Radiation(MJ/m2)': 'Solar_Radiation',\n",
        "                                'Rainfall(mm)': 'Rainfall',\n",
        "                                'Snowfall (cm)': 'Snowfall',\n",
        "                                'Functioning Day': 'Functioning_Day'})"
      ],
      "metadata": {
        "id": "4VTJadKDTeMz"
      },
      "execution_count": null,
      "outputs": []
    },
    {
      "cell_type": "markdown",
      "source": [
        "* Python read \"Date\" column as a object type basically it reads as a string, as the date column is very important to analyze the users behaviour so we need to convert it into datetime format then we split it into 3 column i.e 'year', 'month', 'day' as a category data type."
      ],
      "metadata": {
        "id": "iU0pvtfmVSWA"
      }
    },
    {
      "cell_type": "markdown",
      "source": [
        "# Breaking data column"
      ],
      "metadata": {
        "id": "OD1afDNNV8Em"
      }
    },
    {
      "cell_type": "code",
      "source": [
        "# Changing the \"Date\" column into three \"year\",\"month\",\"day\" column\n",
        "bike_df['Date'] = bike_df['Date'].astype(str)\n",
        "bike_df['Date'] = bike_df[ 'Date'].str.replace('-', '/')\n",
        "bike_df['Date']= bike_df['Date'].apply(lambda x: dt.datetime.strptime(x, \"%d/%m/%Y\"))"
      ],
      "metadata": {
        "id": "bz2TESLsV_sv"
      },
      "execution_count": null,
      "outputs": []
    },
    {
      "cell_type": "code",
      "source": [
        "bike_df['year'] = bike_df[ 'Date'].dt.year\n",
        "bike_df['month']=bike_df['Date'].dt.month\n",
        "bike_df['day'] = bike_df['Date'].dt.day_name()"
      ],
      "metadata": {
        "id": "ToaWqvVuWNEK"
      },
      "execution_count": null,
      "outputs": []
    },
    {
      "cell_type": "code",
      "source": [
        "#creating a new column of \"weekdays weekend\" and drop the column \"Date\",\"day\",\"year\"\n",
        "bike_df['weekdays_weekend' ]=bike_df['day'].apply(lambda x: 1 if x=='Saturday' or x=='Sunday' else 0 )\n",
        "bike_df=bike_df.drop(columns=['Date', 'day', 'year'],axis=1)"
      ],
      "metadata": {
        "id": "OgQfj3W1WkB8"
      },
      "execution_count": null,
      "outputs": []
    },
    {
      "cell_type": "markdown",
      "source": [
        "* So we convert the \"date\" column into 3 different column i.e \"year\" month day\n",
        "* The \"year\" column in our data set is basically contain the 2 unique number contains the details of from 2017 december to 2018 november\n",
        "so if I consider this is a one year then we don't need the \"year\" column so we drop it.\n",
        "* The other column \"day\", it contains the details about the each day of the month, for our relevence we don't need each day of each month\n",
        "data but we need the data about, if a day is a weekday or a weekend so we convert it into this format and drop the \"day\" column."
      ],
      "metadata": {
        "id": "Q6Fp1NlrXbpI"
      }
    },
    {
      "cell_type": "code",
      "source": [
        "bike_df.head()"
      ],
      "metadata": {
        "id": "gE6on0USXhcv"
      },
      "execution_count": null,
      "outputs": []
    },
    {
      "cell_type": "code",
      "source": [
        "bike_df['weekdays_weekend'].value_counts()"
      ],
      "metadata": {
        "id": "gn_4dl2LX7Q0"
      },
      "execution_count": null,
      "outputs": []
    },
    {
      "cell_type": "markdown",
      "source": [
        "# Changing data type"
      ],
      "metadata": {
        "id": "ogVTOkm-YFKM"
      }
    },
    {
      "cell_type": "markdown",
      "source": [
        "* As \"Hour\" \"month\",\"weekdays_weekend\" column are show as a integer data type but actually it is a category data tyepe. so we need to\n",
        "change this data tyepe if we not then, while doing the further anlysis and correleted with this then the values are not actually true so we\n",
        "can mislead by this."
      ],
      "metadata": {
        "id": "n4YAIWruYIQB"
      }
    },
    {
      "cell_type": "code",
      "source": [
        "# Change the int64 column into category column\n",
        "cols = ['Hour', 'month', 'weekdays_weekend',]\n",
        "for col in cols:\n",
        "  bike_df[col]=bike_df[col].astype('category')"
      ],
      "metadata": {
        "id": "zu8SQasmYYVS"
      },
      "execution_count": null,
      "outputs": []
    },
    {
      "cell_type": "code",
      "source": [
        "# let's check the result of data type\n",
        "bike_df.info()"
      ],
      "metadata": {
        "id": "ReAix6f1YzzJ"
      },
      "execution_count": null,
      "outputs": []
    },
    {
      "cell_type": "code",
      "source": [
        "bike_df.columns"
      ],
      "metadata": {
        "id": "sgGzFOdoZGYX"
      },
      "execution_count": null,
      "outputs": []
    },
    {
      "cell_type": "markdown",
      "source": [
        "## ***4. Data Vizualization, Storytelling & Experimenting with charts : Understand the relationships between variables***"
      ],
      "metadata": {
        "id": "GF8Ens_Soomf"
      }
    },
    {
      "cell_type": "markdown",
      "source": [
        "# Exploratory Data Analysis of The Data Set"
      ],
      "metadata": {
        "id": "rDemEMl3I3Eg"
      }
    },
    {
      "cell_type": "markdown",
      "source": [
        "Why do we perform EDA?\n",
        "\n",
        "\n",
        "* An EDA is a thorough examination meant to uncover the underlying structure of a data set and is important for a company because it\n",
        "exposes trends, patterns, and relationships that are not readily apparent.\n",
        "Univariate Analysis"
      ],
      "metadata": {
        "id": "K-jExomsJA4v"
      }
    },
    {
      "cell_type": "markdown",
      "source": [
        "# Univariate Analysis"
      ],
      "metadata": {
        "id": "thOZyMt2JMrt"
      }
    },
    {
      "cell_type": "markdown",
      "source": [
        "Why do you do univariate analysis?\n",
        "* The key objective of Univariate analysis is to simply describe the data to find patterns within the data."
      ],
      "metadata": {
        "id": "5YGr0_IiJU-l"
      }
    },
    {
      "cell_type": "markdown",
      "source": [
        "# Analysis of Dependent Variable:"
      ],
      "metadata": {
        "id": "5nOfmnmCJaho"
      }
    },
    {
      "cell_type": "markdown",
      "source": [
        "What is a dependent variable in data analysis?\n",
        "* we analyse our dependent variable,A dependent variable is a variable whose value will change depending on the value of another variable."
      ],
      "metadata": {
        "id": "uII_acTWJnK8"
      }
    },
    {
      "cell_type": "markdown",
      "source": [
        "# Analysation of Categorical variables"
      ],
      "metadata": {
        "id": "sdN34VvjKEAH"
      }
    },
    {
      "cell_type": "markdown",
      "source": [
        "* Our dependent variable is \"Rented Bike Count\" so we need to analysis this column with the other columns by using some visualisation\n",
        "plot.first we analyze the category data tyep then we proceed with the numerical data type"
      ],
      "metadata": {
        "id": "ZSbVdEeLKMU4"
      }
    },
    {
      "cell_type": "markdown",
      "source": [
        "#### Chart - 1"
      ],
      "metadata": {
        "id": "0wOQAZs5pc--"
      }
    },
    {
      "cell_type": "markdown",
      "source": [
        "### Month"
      ],
      "metadata": {
        "id": "nyiHhzX5MMxM"
      }
    },
    {
      "cell_type": "code",
      "source": [
        "# Analysis of data by visualization\n",
        "fig,ax=plt.subplots(figsize=(12,7))\n",
        "sns.barplot(data=bike_df,x='month',y='Rented_Bike_Count',ax=ax,capsize=.2)\n",
        "ax.set(title='count of Rented bikes according to Month')"
      ],
      "metadata": {
        "id": "7v_ESjsspbW7"
      },
      "execution_count": null,
      "outputs": []
    },
    {
      "cell_type": "markdown",
      "source": [
        "* From the above bar plot we can clearly say that, from the month 5 to 10 (May-October) the demand of the rented bike is high as compare\n",
        "to other months. These months came inside the summer season.\n"
      ],
      "metadata": {
        "id": "0Bd8GGrWRSEi"
      }
    },
    {
      "cell_type": "markdown",
      "source": [
        "#### Chart - 2"
      ],
      "metadata": {
        "id": "KSlN3yHqYklG"
      }
    },
    {
      "cell_type": "markdown",
      "source": [
        "### Weekdays_Weekend"
      ],
      "metadata": {
        "id": "eyNj0htRRc6B"
      }
    },
    {
      "cell_type": "code",
      "source": [
        " #analysis of data by vizualisation\n",
        "fig,ax=plt.subplots(figsize=(8,6))\n",
        "sns.barplot(data=bike_df,x='weekdays_weekend',y='Rented_Bike_Count',ax=ax,capsize=.2)\n",
        "ax.set(title='Count of Rented bikes acording to weekdays_weekenday')"
      ],
      "metadata": {
        "id": "R4YgtaqtYklH"
      },
      "execution_count": null,
      "outputs": []
    },
    {
      "cell_type": "code",
      "source": [
        "# anlysis of data by vizualisation\n",
        "fig,ax=plt.subplots(figsize=(12,7))\n",
        "sns.pointplot(data=bike_df,x='Hour',y='Rented_Bike_Count', hue='weekdays_weekend',ax=ax)\n",
        "ax.set(title='Count of Rented bikes acording to weekdays_weekend ')"
      ],
      "metadata": {
        "id": "t6GMdE67YoAp"
      },
      "execution_count": null,
      "outputs": []
    },
    {
      "cell_type": "markdown",
      "source": [
        "* From the above point plot and bar plot we can say that, in the week days which represent in blue colur show that the demand of the bike\n",
        "higher because of the office.\n",
        "* Peak Time are 7 am to 9 am and 5 pm to 7 pm*\n",
        "* The orange colur represent the weekend days, and it show that the demand of rented bikes are very low specially in the morning hour\n",
        "but when the evening start from 4 pm to 8 pm the demand slightly increases.*\n",
        "Hour"
      ],
      "metadata": {
        "id": "SLHdF9PaXif1"
      }
    },
    {
      "cell_type": "markdown",
      "source": [
        "### Hour"
      ],
      "metadata": {
        "id": "gBZhARZXXrVQ"
      }
    },
    {
      "cell_type": "code",
      "source": [
        "#anlysis of data by vizualisation\n",
        "fig,ax=plt.subplots(figsize=(12,7))\n",
        "sns.barplot(data=bike_df,x='Hour',y='Rented_Bike_Count',ax=ax, capsize=.2)\n",
        "ax.set(title='Count of Rented bikes acording to Hour ')"
      ],
      "metadata": {
        "id": "irlUoxc8YrdO"
      },
      "execution_count": null,
      "outputs": []
    },
    {
      "cell_type": "markdown",
      "source": [
        "* In the above plot which shows, the use of rented bike according the hours and the data are from all over the year.\n",
        "* generally people use rented bikes during their working hour from 7am to 9am and 5pm to 7pm.\n",
        "Functioning Day"
      ],
      "metadata": {
        "id": "8IEjm5_ZY89M"
      }
    },
    {
      "cell_type": "markdown",
      "source": [
        "### Functioning Day"
      ],
      "metadata": {
        "id": "G5nYhEfIZa7P"
      }
    },
    {
      "cell_type": "code",
      "source": [
        "#anlysis of data by vizualisation\n",
        "fig, ax=plt.subplots(figsize=(8,6))\n",
        "sns.barplot (data=bike_df,x='Functioning_Day',y='Rented_Bike_Count',ax=ax, capsize=.2)\n",
        "ax.set(title='count of Rented bikes acording to Functioning Day ')"
      ],
      "metadata": {
        "id": "TIJwrbroYuh3"
      },
      "execution_count": null,
      "outputs": []
    },
    {
      "cell_type": "code",
      "source": [
        "#anlysis of data by vizualisation\n",
        "fig,ax=plt.subplots(figsize=(12,7))\n",
        "sns.pointplot(data=bike_df,x='Hour',y='Rented_Bike_Count',hue='Functioning_Day',ax=ax)\n",
        "ax.set(title='Count of Rented bikes according to Functioning Day ')"
      ],
      "metadata": {
        "id": "GPxg7LEkZ4CQ"
      },
      "execution_count": null,
      "outputs": []
    },
    {
      "cell_type": "markdown",
      "source": [
        "* In the above bar plot and point plot which shows the use of rented bike in functioning day or non functioning day, and it clearly shows that,\n",
        "* Peoples don't use reneted bikes in no functioning day,\n",
        "Seasons"
      ],
      "metadata": {
        "id": "iu3WH-csa9d2"
      }
    },
    {
      "cell_type": "markdown",
      "source": [
        "### Seasons"
      ],
      "metadata": {
        "id": "2wMZyys4bGSa"
      }
    },
    {
      "cell_type": "code",
      "source": [
        "#anlysis of data by vizualisation\n",
        "fig,ax=plt.subplots(figsize=(12,6))\n",
        "sns.barplot(data=bike_df,x='Seasons',y='Rented_Bike_Count',ax=ax,capsize=.2)\n",
        "ax.set(title='Count of Rented bikes acording to Seasons')"
      ],
      "metadata": {
        "id": "kuRf4wtuphqN"
      },
      "execution_count": null,
      "outputs": []
    },
    {
      "cell_type": "code",
      "source": [
        "#anlysis of data by vizualisation\n",
        "fig,ax=plt.subplots(figsize=(12,6))\n",
        "sns.pointplot(data=bike_df,x='Hour',y='Rented_Bike_Count',hue='Seasons', ax=ax)\n",
        "ax.set(title='Count of Rented bikes acording to seasons ')\n"
      ],
      "metadata": {
        "id": "KBCfI2nPcC4m"
      },
      "execution_count": null,
      "outputs": []
    },
    {
      "cell_type": "markdown",
      "source": [
        "* In the above bar plot and point plot which shows, the use of rented bike in four different seasons, and it clearly shows that,\n",
        "In summer season the use of rented bike is high and peak time is 7am-9an and 5pm-7pm.\n",
        "* In winter season the use of rented bike is very low maybe because of snowfell, fog, cold etc."
      ],
      "metadata": {
        "id": "DBvAi0_Nc87m"
      }
    },
    {
      "cell_type": "code",
      "source": [
        "#anlysis of data by vizualisation\n",
        "fig,ax=plt.subplots(figsize=(8,6))\n",
        "sns.barplot(data=bike_df,x='Holiday',y='Rented_Bike_Count',ax=ax, capsize=.2)\n",
        "ax.set(title='Count of Rented bikes acording to Holiday')"
      ],
      "metadata": {
        "id": "lqAIGUfyphqO"
      },
      "execution_count": null,
      "outputs": []
    },
    {
      "cell_type": "code",
      "source": [
        "#anlysis of data by vizualisation\n",
        "fig,ax=plt.subplots(figsize=(12,6))\n",
        "sns.pointplot(data=bike_df,x='Hour',y='Rented_Bike_Count',hue='Holiday',ax=ax)\n",
        "ax.set(title='count of Rented bikes acording to Holiday ')"
      ],
      "metadata": {
        "id": "0b8w6_njdyVX"
      },
      "execution_count": null,
      "outputs": []
    },
    {
      "cell_type": "markdown",
      "source": [
        "* In the above bar plot and point plot which shows the use of rented bike in a holiday, and it clearly shows that,\n",
        "* In holiday, people uses the rented bike from 2pm-8pm"
      ],
      "metadata": {
        "id": "ufy6WaMxdv0y"
      }
    },
    {
      "cell_type": "markdown",
      "source": [
        "### Analyze of Numerical variables"
      ],
      "metadata": {
        "id": "gySAhw1tBJBh"
      }
    },
    {
      "cell_type": "markdown",
      "source": [
        "What is Numerical Data\n",
        "* Numerical data is a data type expressed in numbers, rather than natural language description. Sometimes called quantitative data,\n",
        "numerical data is always collected in number form. Numerical data differentiates itself from other number form data types with its ability\n",
        "to carry out arithmetic operations with these numbers"
      ],
      "metadata": {
        "id": "QajFg0GZBP_Y"
      }
    },
    {
      "cell_type": "markdown",
      "source": [
        "#### Pays little attention to the skewness of our numerical features"
      ],
      "metadata": {
        "id": "BZR9WyysphqO"
      }
    },
    {
      "cell_type": "code",
      "source": [
        "# separate numerical features from the dataframe\n",
        "numeric_features= bike_df.select_dtypes(exclude=['object', 'category'])\n",
        "numeric_features"
      ],
      "metadata": {
        "id": "TdPTWpAVphqO"
      },
      "execution_count": null,
      "outputs": []
    },
    {
      "cell_type": "code",
      "source": [
        "# printing displots to analyze the distribution of all numerical features\n",
        "n=1\n",
        "plt.figure(figsize=(15,10))\n",
        "for i in numeric_features.columns:\n",
        "  plt.subplot(3,3,n)\n",
        "  n=n+1\n",
        "  sns.distplot(bike_df[i])\n",
        "  plt.title(i)\n",
        "  plt.tight_layout()"
      ],
      "metadata": {
        "id": "h_l0wQL8Cdp4"
      },
      "execution_count": null,
      "outputs": []
    },
    {
      "cell_type": "markdown",
      "source": [
        " **Right skewed columns are**"
      ],
      "metadata": {
        "id": "jj7wYXLtphqO"
      }
    },
    {
      "cell_type": "markdown",
      "source": [
        "Rented Bike Count (Its also our Dependent variable), Wind speed (m/s), Solar Radiation (MJ/m2), Rainfall (mm), Snowfall (cm)."
      ],
      "metadata": {
        "id": "Ob8u6rCTphqO"
      }
    },
    {
      "cell_type": "markdown",
      "source": [
        " **Left skewed columns are**"
      ],
      "metadata": {
        "id": "eZrbJ2SmphqO"
      }
    },
    {
      "cell_type": "markdown",
      "source": [
        "Visibility (10m), Dew point temperature (°C)"
      ],
      "metadata": {
        "id": "mZtgC_hjphqO"
      }
    },
    {
      "cell_type": "markdown",
      "source": [
        "###**Lets try to find how is the relation of numerical features with our dependent variable**"
      ],
      "metadata": {
        "id": "A1eBWvKxD56w"
      }
    },
    {
      "cell_type": "markdown",
      "source": [
        "# Numerical Vs Rented Bike Count"
      ],
      "metadata": {
        "id": "LsFB3-qNEQJJ"
      }
    },
    {
      "cell_type": "code",
      "source": [
        "#print the plot to analyze the relationship between \"Rented_Bike_Count\" and \"Temperature\"\n",
        "bike_df.groupby('Temperature').mean()['Rented_Bike_Count'].plot()"
      ],
      "metadata": {
        "id": "B2aS4O1ophqO"
      },
      "execution_count": null,
      "outputs": []
    },
    {
      "cell_type": "markdown",
      "source": [
        "* From the above plot we see that, people like to ride bikes when it is pretty hot around 25°C in average"
      ],
      "metadata": {
        "id": "xLNayOouFFAB"
      }
    },
    {
      "cell_type": "code",
      "source": [
        "# print the plot to analyze the relationship between \"Rented_Bike_Count\" and \"Dew point temperature\"\n",
        "bike_df.groupby('Dew_point_temperature').mean()['Rented_Bike_Count'].plot()"
      ],
      "metadata": {
        "id": "GM7a4YP4phqQ"
      },
      "execution_count": null,
      "outputs": []
    },
    {
      "cell_type": "markdown",
      "source": [
        ". From the above plot of \"Dew point temperature', is almost same as the temperature' there is some similarity present we can check it in\n",
        "our next step."
      ],
      "metadata": {
        "id": "1M8mcRywphqQ"
      }
    },
    {
      "cell_type": "code",
      "source": [
        "# print the plot to analyze the relationship between \"Rented Bike Count\" and \"Solar Radiation\"\n",
        "bike_df.groupby('Solar_Radiation').mean() ['Rented_Bike_Count'].plot()"
      ],
      "metadata": {
        "id": "mAQTIvtqp1cj"
      },
      "execution_count": null,
      "outputs": []
    },
    {
      "cell_type": "markdown",
      "source": [
        "* from the above plot we see that, the amount of rented bikes is huge, when there is solar radiation, the count of rents is around 1000"
      ],
      "metadata": {
        "id": "uQhNtH3sRbD5"
      }
    },
    {
      "cell_type": "code",
      "source": [
        "#print the plot to analyze the relationship between \"Rented_Bike_Count\" and \"Snowfall\"\n",
        "\n",
        "bike_df.groupby('Snowfall').mean()['Rented_Bike_Count'].plot()\n",
        "\n",
        "\n"
      ],
      "metadata": {
        "id": "bwevp1tKp1ck"
      },
      "execution_count": null,
      "outputs": []
    },
    {
      "cell_type": "markdown",
      "source": [
        "* We can see from the above plot that, even if it rains a lot the demand of of rent bikes is not decreasing, here for example even if we have\n",
        "20 mm of rain there is a big peak of rented bikes"
      ],
      "metadata": {
        "id": "CYl790cLZIuR"
      }
    },
    {
      "cell_type": "code",
      "source": [
        "#print the plot to analyze the relationship between \"Rented Bike Count\" and \"wind_speed\"\n",
        "bike_df.groupby('Wind_speed').mean() ['Rented_Bike_Count'].plot()\n"
      ],
      "metadata": {
        "id": "EUfxeq9-p1cl"
      },
      "execution_count": null,
      "outputs": []
    },
    {
      "cell_type": "markdown",
      "source": [
        "* We can see from the above plot that, the demand of rented bike is uniformly distribute despite of wind speed but when the speed of wind\n",
        "is 7 m/s then the demand of bike also increase that clearly means people love to ride bikes when Its little windy."
      ],
      "metadata": {
        "id": "TiQvIYHSaCeq"
      }
    },
    {
      "cell_type": "markdown",
      "source": [
        "# REGRESSION PLOT"
      ],
      "metadata": {
        "id": "3HlNmCLYaLN3"
      }
    },
    {
      "cell_type": "markdown",
      "source": [
        "* The regression plots in seaborn are primarily intended to add a visual guide that helps to emphasize patterns in a dataset during\n",
        "exploratory data analyses. Regression plots as the name suggests creates a regression line between 2 parameters and helps to visualize\n",
        "their linear relationships."
      ],
      "metadata": {
        "id": "lORY8wqlaU3i"
      }
    },
    {
      "cell_type": "code",
      "source": [
        "#printing the regression plot for all the numerical features\n",
        "for col in numeric_features:\n",
        "  fig,ax=plt.subplots(figsize=(8,4))\n",
        "  sns.regplot(x=bike_df[col],y=bike_df['Rented_Bike_Count'],scatter_kws={\"color\": 'orange'}, line_kws={\"color\": \"black\"})"
      ],
      "metadata": {
        "id": "gc7tlR60adh_"
      },
      "execution_count": null,
      "outputs": []
    },
    {
      "cell_type": "markdown",
      "source": [
        "* From the above regression plot of all numerical features we see that the columns Temperature', 'Wind speed, Visibility,\n",
        "'Dew point temperature', 'Solar_Radiation are positively relation to the target variable.\n",
        "* which means the rented bike count increases with increase of these features.\n",
        "* 'Rainfall','Snowfall Humidity' these features are negatively related with the target variaable which means the rented bike count decreases\n",
        "when these features increase."
      ],
      "metadata": {
        "id": "_IYmxmb_rvgY"
      }
    },
    {
      "cell_type": "markdown",
      "source": [
        "#### Normalise Rented_Bike_Count coumn data"
      ],
      "metadata": {
        "id": "NC_X3p0fY2L0"
      }
    },
    {
      "cell_type": "markdown",
      "source": [
        "* The data normalization (also referred to as data pre-processing) is a basic element of data mining. It means transforming the data, namely\n",
        "converting the source data in to another format that allows processing data effectively. The main purpose of data normalization is to\n",
        "minimize or even exclude duplicated data"
      ],
      "metadata": {
        "id": "xK6cGtRasHQP"
      }
    },
    {
      "cell_type": "code",
      "source": [
        "#Distribution plot of Rented Bike Count\n",
        "plt.figure(figsize=(10,6))\n",
        "plt.xlabel('Rented_Bike_Count')\n",
        "plt.ylabel('Density')\n",
        "ax=sns.distplot(bike_df['Rented_Bike_Count'],hist=True,color=\"y\")\n",
        "ax.axvline (bike_df[ 'Rented_Bike_Count'].mean(), color='magenta', linestyle='dashed', linewidth=2)\n",
        "ax.axvline (bike_df['Rented_Bike_Count'].median(), color='black', linestyle='dashed', linewidth=2)\n",
        "plt.show()"
      ],
      "metadata": {
        "id": "xyC9zolEZNRQ"
      },
      "execution_count": null,
      "outputs": []
    },
    {
      "cell_type": "markdown",
      "source": [
        "* The above graph shows that, Rented Bike Count has moderate right skewness. Since the assumption of linear regression is that the\n",
        "distribution of dependent variable has to be normal, so we should perform some operation to make it normal."
      ],
      "metadata": {
        "id": "tMRnS3IVtRah"
      }
    },
    {
      "cell_type": "markdown",
      "source": [
        "##### **Finding Outliers and treatment**"
      ],
      "metadata": {
        "id": "dYSyYiHftXK1"
      }
    },
    {
      "cell_type": "code",
      "source": [
        "# Boxplot for Rented bike Courk to check outliers\n",
        "plt.figure(figsize=(10,6))\n",
        "plt.ylabel('Rented_Bike_Count')\n",
        "sns.boxplot(x=bike_df[ 'Rented_Bike_Count'])\n",
        "plt.show()"
      ],
      "metadata": {
        "id": "TBIHlxKmtmBP"
      },
      "execution_count": null,
      "outputs": []
    },
    {
      "cell_type": "code",
      "source": [
        "# outliers treatmentS\n",
        "bike_df.loc[bike_df['Rainfall'] >= 4, 'Rainfall'] = 4\n",
        "bike_df.loc[bike_df['Solar_Radiation'] >= 2.5, 'Solar_Radiation'] = 2.5\n",
        "bike_df.loc[bike_df['Snowfall'] > 2, 'Snowfall'] = 2\n",
        "bike_df.loc[bike_df['Wind_speed'] >= 4, 'Wind_speed'] = 4"
      ],
      "metadata": {
        "id": "FJAGE5YiuGf3"
      },
      "execution_count": null,
      "outputs": []
    },
    {
      "cell_type": "markdown",
      "source": [
        "we have appliod outlier treatment techniques to the dataset by replacing the outiers with the maximum values."
      ],
      "metadata": {
        "id": "VmqAkQFGu1Yg"
      }
    },
    {
      "cell_type": "code",
      "source": [
        "#Applying square root to Rented Bike Count to improve skewness\n",
        "plt.figure(figsize=(8,6))\n",
        "plt.xlabel(\" Rented Bike count\")\n",
        "plt.ylabel('Density')\n",
        "ax=sns.distplot(np.sqrt(bike_df['Rented_Bike_Count' ]), color=\"y\")\n",
        "ax.axvline(np.sqrt(bike_df['Rented_Bike_Count']).mean(), color='magenta', linestyle='dashed', linewidth=2)\n",
        "ax.axvline(np.sqrt(bike_df['Rented_Bike_Count']).median(), color='black', linestyle='dashed', linewidth=2)\n",
        "plt.show()"
      ],
      "metadata": {
        "id": "zPE7HMFmu5ap"
      },
      "execution_count": null,
      "outputs": []
    },
    {
      "cell_type": "markdown",
      "source": [
        "*  Since we have generic rule of applying Square hot for the skewed variable in order to make it normal.After applying Square root to the\n",
        "skewed Rented Bike Count, here we get almost normal distribution."
      ],
      "metadata": {
        "id": "k7WfonJBwlbx"
      }
    },
    {
      "cell_type": "code",
      "source": [
        "#After applying sqrt on Rented Bike Count check wheater we still have outliers\n",
        "plt.figure(figsize=(10,6))\n",
        "plt.ylabel('Rented_Bike_Count')\n",
        "sns.boxplot(x=np.sqrt(bike_df['Rented_Bike_Count']))\n",
        "plt.show()"
      ],
      "metadata": {
        "id": "Hr1kpjyvwo0f"
      },
      "execution_count": null,
      "outputs": []
    },
    {
      "cell_type": "markdown",
      "source": [
        "* After applying Square root to the Rented Bike Count column, we find that there is no outliers present."
      ],
      "metadata": {
        "id": "p7ZegHVmxO4p"
      }
    },
    {
      "cell_type": "code",
      "source": [
        "bike_df.corr()"
      ],
      "metadata": {
        "id": "t2Yul46sxfF-"
      },
      "execution_count": null,
      "outputs": []
    },
    {
      "cell_type": "markdown",
      "source": [
        "# Checking of correlation between variables"
      ],
      "metadata": {
        "id": "P3GL4haWx4y2"
      }
    },
    {
      "cell_type": "markdown",
      "source": [
        "### Checking in OLS Model"
      ],
      "metadata": {
        "id": "I2MZ0lb-x_Pj"
      }
    },
    {
      "cell_type": "markdown",
      "source": [
        "Ordinary least squares (OLS) regression is a statistical method of analysis that estimates the relationship between one or more independent\n",
        "variables and a dependent variable"
      ],
      "metadata": {
        "id": "RQuzuQOUyEmO"
      }
    },
    {
      "cell_type": "code",
      "source": [
        "#import the module\n",
        "#assign the 'x', 'y' value\n",
        "import statsmodels.api as sm\n",
        "x = bike_df[['Temperature', 'Humidity',\n",
        "             'Wind_speed', 'Dew_point_temperature',\n",
        "              'Solar_Radiation', 'Rainfall', 'Snowfall']]\n",
        "Y = bike_df[ 'Rented_Bike_Count']\n",
        "bike_df.head()"
      ],
      "metadata": {
        "id": "-drg04csyKi9"
      },
      "execution_count": null,
      "outputs": []
    },
    {
      "cell_type": "code",
      "source": [
        "# add a constant column\n",
        "x = sm.add_constant(x)\n",
        "x"
      ],
      "metadata": {
        "id": "NS3hlzChzYpn"
      },
      "execution_count": null,
      "outputs": []
    },
    {
      "cell_type": "code",
      "source": [
        "# fit an OLS model\n",
        "model = sm.OLS(Y, x).fit()\n",
        "model.summary()"
      ],
      "metadata": {
        "id": "5fbaWdXXzrG-"
      },
      "execution_count": null,
      "outputs": []
    },
    {
      "cell_type": "markdown",
      "source": [
        "* R sqauare and Adj Square are near to each other. 40% of variance in the Rented Bike count is explained by the model.\n",
        "* For F statistic, P value is less than 0.05 for 5% levelof signifoance.\n",
        "* Pvalue of dew point temp and visibility are very high and they are not siqnifkcant.\n",
        "* Omnibus tests the skewness and kurtosis of the residuats Here the vatue of Omnitbus is high, t shows we have skewness in our data.\n",
        "* The condition number is large, 3,11e+04, This might indicate that there are strong muitioolitinearity or other numerical problems.\n",
        "* Durbin-Watson tests for autocorrelation of the restduals. Here value is iess than 0.5. We can say that there existsa positive auto\n",
        "Correlation among the variabies."
      ],
      "metadata": {
        "id": "fQ6RIwRF0l-I"
      }
    },
    {
      "cell_type": "code",
      "source": [
        "x.corr()"
      ],
      "metadata": {
        "id": "XeyHW_Nx05AZ"
      },
      "execution_count": null,
      "outputs": []
    },
    {
      "cell_type": "markdown",
      "source": [
        "* From the OLS model we find that the Temperature' and 'Dew point temperature' are highly correlated so we need to drop one of them.\n",
        "* For droping them we check the (P>it) value from above table and we can see that the 'Dew point temperature' value is higher so we need\n",
        "to drop Dew point temperature column\n",
        "* For clarity, we use visualisation i.e heatmap in next step"
      ],
      "metadata": {
        "id": "gzLxny9H1QAo"
      }
    },
    {
      "cell_type": "markdown",
      "source": [
        "#### Heatmap"
      ],
      "metadata": {
        "id": "q29F0dvdveiT"
      }
    },
    {
      "cell_type": "markdown",
      "source": [
        "### A correlation Heatmap is a type of graphical representation that displays the correlation matrix, which helps to determine the correlation between different variables."
      ],
      "metadata": {
        "id": "MxqNBhuu1mVk"
      }
    },
    {
      "cell_type": "code",
      "source": [
        "# Checking correlation using heatmap\n",
        "plt.figure(figsize=(10,5))\n",
        "sns.heatmap(bike_df.corr(),cmap='PiYG', annot=True)"
      ],
      "metadata": {
        "id": "o58-TEIhveiU"
      },
      "execution_count": null,
      "outputs": []
    },
    {
      "cell_type": "markdown",
      "source": [
        "We can observe on the heatmap that on the target variable line, the most positively correlated variables to the rent are:\n",
        "* the temperature\n",
        "* the dew point temperature\n",
        "* the solar radiation"
      ],
      "metadata": {
        "id": "cqQUwIWLFq7-"
      }
    },
    {
      "cell_type": "markdown",
      "source": [
        "And most negatively correlated variables are:\n",
        "* humidity\n",
        "* rainfall"
      ],
      "metadata": {
        "id": "GXPfX1W6FqeS"
      }
    },
    {
      "cell_type": "markdown",
      "source": [
        "* From the above correlation heatmap, We see that there is a positive correlation between columns Temperature and Dew point\n",
        "temperature' i.e 0.91 so even if we drop this column then it won't affect the outcome of our analysis. And they have the same variations, s0\n",
        "we can drop the column Dew point temperature('c')"
      ],
      "metadata": {
        "id": "W6FOVPT9HSlF"
      }
    },
    {
      "cell_type": "code",
      "source": [
        "# drop the Dew point temperature column\n",
        "bike_df=bike_df.drop(['Dew_point_temperature'],axis=1)\n"
      ],
      "metadata": {
        "id": "pb-gwt09Hawj"
      },
      "execution_count": null,
      "outputs": []
    },
    {
      "cell_type": "code",
      "source": [
        "bike_df.info()"
      ],
      "metadata": {
        "id": "O4kjhyYnH2nP"
      },
      "execution_count": null,
      "outputs": []
    },
    {
      "cell_type": "markdown",
      "source": [
        "## ***6. Feature Engineering & Data Pre-processing***"
      ],
      "metadata": {
        "id": "yLjJCtPM0KBk"
      }
    },
    {
      "cell_type": "markdown",
      "source": [
        "### Create the dummy variables"
      ],
      "metadata": {
        "id": "xiyOF9F70UgQ"
      }
    },
    {
      "cell_type": "markdown",
      "source": [
        "A dataset may contain various type of values, sometimes it consists of categorical values. So, in-order to use those categorical value for\n",
        "programming efficiently we create dummy variables."
      ],
      "metadata": {
        "id": "z5hmBTX6IpiM"
      }
    },
    {
      "cell_type": "markdown",
      "source": [
        "### One Hot Encoding"
      ],
      "metadata": {
        "id": "gZfEW7lkI0Nl"
      }
    },
    {
      "cell_type": "code",
      "source": [
        "#Assign all categorical features to a variable\n",
        "categorical_features=list(bike_df.select_dtypes(['object', 'category']).columns)\n",
        "categorical_features=pd.Index(categorical_features)\n",
        "categorical_features"
      ],
      "metadata": {
        "id": "JMbiYFpYIyfI"
      },
      "execution_count": null,
      "outputs": []
    },
    {
      "cell_type": "markdown",
      "source": [
        "### one hot encoding"
      ],
      "metadata": {
        "id": "43YRumcZJ8t0"
      }
    },
    {
      "cell_type": "markdown",
      "source": [
        "A one hot encoding allows the representation of categorical data to be more expressive. Many machine learning algorithms cannot work with\n",
        "categorical data directly. The categories must be converted into numbers. This is required for both input and output variables that are\n",
        "categorical."
      ],
      "metadata": {
        "id": "fRpfiZkUKAwN"
      }
    },
    {
      "cell_type": "code",
      "source": [
        "#creat a copy\n",
        "bike_df_copy=bike_df\n",
        "\n",
        "def one_hot_encoding(data, column):\n",
        "    data = pd.concat([data, pd.get_dummies(data[column], prefix=column, drop_first=True)], axis=1)\n",
        "    data =data.drop([column], axis=1)\n",
        "    return data\n",
        "for col in categorical_features:\n",
        "    bike_df_copy = one_hot_encoding(bike_df_copy, col)\n",
        "bike_df_copy.head()"
      ],
      "metadata": {
        "id": "iRsAHk1K0fpS"
      },
      "execution_count": null,
      "outputs": []
    },
    {
      "cell_type": "markdown",
      "source": [
        "# Model Training"
      ],
      "metadata": {
        "id": "XNvdwWjgLSv_"
      }
    },
    {
      "cell_type": "markdown",
      "source": [
        "### Train Test split for regression"
      ],
      "metadata": {
        "id": "YUVq4cN2LWS2"
      }
    },
    {
      "cell_type": "markdown",
      "source": [
        "Before, fitting any model it is a rule of thumb to spin the dataset into a training and test set. This means some proportions of the data will go\n",
        "into training the model and some portion will be used to evaluate how our model is performing on any unseen data. The proportions may vary\n",
        "from 60:40, 70:30, 75:25 depending on the person but mostly used is 80:20 for training and testing respectively. In this step we will split our\n",
        "data into training and testing set using scikit team library."
      ],
      "metadata": {
        "id": "58U507oPLdX3"
      }
    },
    {
      "cell_type": "code",
      "source": [
        "#Assign the value in X and Y\n",
        "X = bike_df_copy.drop(columns=['Rented_Bike_Count'], axis=1)\n",
        "y= np.sqrt(bike_df_copy['Rented_Bike_Count'])"
      ],
      "metadata": {
        "id": "J2Px9yeVLkUD"
      },
      "execution_count": null,
      "outputs": []
    },
    {
      "cell_type": "code",
      "source": [
        "X.head()"
      ],
      "metadata": {
        "id": "BWyd_-LZL8x3"
      },
      "execution_count": null,
      "outputs": []
    },
    {
      "cell_type": "code",
      "source": [
        "y.head()"
      ],
      "metadata": {
        "id": "AvdLqJ5HMHSu"
      },
      "execution_count": null,
      "outputs": []
    },
    {
      "cell_type": "code",
      "source": [
        "#create test and train data\n",
        "from sklearn.model_selection import train_test_split\n",
        "X_train, X_test, y_train, y_test= train_test_split(X,y, test_size=0.25, random_state=0)\n",
        "print(X_train.shape)\n",
        "print(X_test.shape)"
      ],
      "metadata": {
        "id": "k0qt4byHMdnO"
      },
      "execution_count": null,
      "outputs": []
    },
    {
      "cell_type": "code",
      "source": [
        "bike_df_copy.info()"
      ],
      "metadata": {
        "id": "GuKSChrgM6Ry"
      },
      "execution_count": null,
      "outputs": []
    },
    {
      "cell_type": "code",
      "source": [
        "bike_df_copy.describe().columns"
      ],
      "metadata": {
        "id": "NZsLvwBFNF4J"
      },
      "execution_count": null,
      "outputs": []
    },
    {
      "cell_type": "markdown",
      "source": [
        "* The mean squared error (MSE) tells you how close a regression line is to a set of points. It does this by taking the distances from the\n",
        "points to the regression line (these distances are the \"errors\") and squaring them. It's called the mean squared error as you're finding the\n",
        "average of a set of errors. The lower the MSE, the better the forecast.\n",
        "* MSE formula-(1/n) Z(actual-forecast)2 Where:\n",
        "* n number of items,\n",
        "* summation notation,\n",
        "* Actual original or observed y-value,\n",
        "* Forecast y-value from regression.\n",
        "* Root Mean Square Entor (RMSE) is the standard deviation of the residuals (prediction errors).\n",
        "* Mean Absolute Error (MAE) are metrics used to evaluate a Regression Model.... Here, errors are the differences between the predicted\n",
        "valuós (Valube predicted by our regression model) and the actual values of a variable.\n",
        "* Raquared (2) is a statistical measure that represents the proportion of the variance for a dependent variable that's explained by an\n",
        "todaparident variable or variables in a regression model.\n",
        "* Formula for R-Squared\n",
        "\n",
        "               R² = 1-Unexplained Variation/Total Variation\n",
        "\n",
        "* R2=1-Total Variation unexplained variation\n",
        "* Adjusted R-squared is a version of R-squared that has been adjusted for the number of predictors in the method."
      ],
      "metadata": {
        "id": "4qdo-RikLdG4"
      }
    },
    {
      "cell_type": "markdown",
      "source": [
        "Regression models describe the relationship between variables by fitting a line to the observed data. Linear regression models use a straight\n",
        "line\n",
        "\n",
        "Linear regression uses a linear approach to model the relationship between independent and dependent variables. In simple words its a best fit\n",
        "line drawn over the values of independent variables and dependent variable. In case of singla variable, the formula is same as straight line\n",
        "equation having an intercept and slope.\n",
        "              \n",
        "              y_pred = B0 + B1\n",
        "where\n",
        "               b0 and b1\n",
        "              \n",
        "are intercept and slope respectively.\n",
        "\n",
        "In case of multiple features the formula translates into:\n",
        "\n",
        "                   y_pred= b0+b1x1+b2x2+b3x3....\n",
        "\n",
        "where x_1x_2x_3 are the features values and\n",
        "\n",
        "                  Bo. Pr. Br\n",
        "\n",
        "are weights assigned to each of the features. These become the parameters which the algorithm tries to learn using Gradient descent.\n",
        "\n",
        "Gradient descent is the process by which the algorithm tries to update the parameters using a loss function. Loss function is nothing but the\n",
        "diffence between the actual values and predicted values(aka error or residuals). There are different types of loss function but this is the\n",
        "simplest one. Loss function summed over all observation gives the cost functions. The role of gradient descent is to update the parameters till\n",
        "the cost function is minimized Le, a global minima is reached. It uses a hyperparameter 'alpha' that gives a weightage to the cost function and\n",
        "decides on how big the steps to take. Alpha is called as the learning rate. It is always necesarry to keep an optimal value of alpha as high and\n",
        "uw values of alpha might make the gradient descent overshoot or get stuck at a local minima. There are also some basic assumptions that\n",
        "Et be fulfilled before implementing this algorithm. They are:\n",
        "\n",
        "1. No multicollinearity in the dataset.\n",
        "2. Independent variables should show linear relationship with dv.\n",
        "3. Residual mean should be 0 or close to 0.\n",
        "4. There should be no heteroscedasticity i.e., variance should be constant along the line of best fit.\n",
        "\n",
        "Let us now implement our first model. We will be using LinearRegression from scikit library,\n"
      ],
      "metadata": {
        "id": "InUxACGYRHpK"
      }
    },
    {
      "cell_type": "code",
      "source": [
        "#import the packages\n",
        "from sklearn.linear_model import LinearRegression\n",
        "reg= LinearRegression().fit(X_train, y_train)"
      ],
      "metadata": {
        "id": "WymwiKrNTJ3I"
      },
      "execution_count": null,
      "outputs": []
    },
    {
      "cell_type": "code",
      "source": [
        "# Check the score\n",
        "reg.score(X_train, y_train)"
      ],
      "metadata": {
        "id": "vZIxXXYsTSZX"
      },
      "execution_count": null,
      "outputs": []
    },
    {
      "cell_type": "code",
      "source": [
        "# check the coefficent\n",
        "reg.coef_"
      ],
      "metadata": {
        "id": "fY15BertTcJc"
      },
      "execution_count": null,
      "outputs": []
    },
    {
      "cell_type": "code",
      "source": [
        "#get the x train and X-test value\n",
        "y_pred_train=reg.predict(X_train)\n",
        "y_pred_test=reg.predict(X_test)"
      ],
      "metadata": {
        "id": "wqfVlAoWUD02"
      },
      "execution_count": null,
      "outputs": []
    },
    {
      "cell_type": "code",
      "source": [
        "# import the packages\n",
        "from sklearn.metrics import mean_squared_error\n",
        "# calculate MSE\n",
        "MSE_lr= mean_squared_error((y_train), (y_pred_train))\n",
        "print(\"NSE :\",MSE_lr)\n",
        "\n",
        "#calculate RMSE\n",
        "RMSE_lr=np.sqrt(MSE_lr)\n",
        "print(\"RMSE :\",RMSE_lr)\n",
        "\n",
        "#calculate MAE\n",
        "MAE_lr=mean_absolute_error(y_train, y_pred_train)\n",
        "print(\"MAE\",MAE_lr)\n",
        "\n",
        "#import the packages\n",
        "from sklearn.metrics import r2_score\n",
        "#calculate r2 and adjusted r2\n",
        "r2_lr= r2_score(y_train, y_pred_train)\n",
        "print(\"R2:\",r2_lr)\n",
        "Adjusted_R2_lr= (1-(1-r2_score(y_train, y_pred_train))*((X_test.shape[0]-1)/(X_test.shape[0]-X_test.shape[1]-1)))\n",
        "print(\"Adjusted R2:\",1-(1-r2_score(y_train, y_pred_train))*((X_test.shape[0]-1)/(X_test.shape[0]-X_test.shape[1]-1)))"
      ],
      "metadata": {
        "id": "-JZowJHFUSEE"
      },
      "execution_count": null,
      "outputs": []
    },
    {
      "cell_type": "markdown",
      "source": [
        "Looks like our train sets 12 score value is 0.79 that means our model is able to capture most of the data variance. Lets save it in a dataframe\n",
        "for later comparisons."
      ],
      "metadata": {
        "id": "qEWYhAGyWe9Q"
      }
    },
    {
      "cell_type": "code",
      "source": [
        "# storing the test set metrics value in a dataframe for later comparison\n",
        "dict1={'Model':'Linear regression',\n",
        "       'MAE': round((MAE_lr),3),\n",
        "       'MSE': round((MSE_lr),3),\n",
        "       'RMSE': round((RMSE_lr),3),\n",
        "      'R2_score':round((r2_lr),3),\n",
        "      'Adjusted R2':round((Adjusted_R2_lr ),2)\n",
        "}\n",
        "\n",
        "\n",
        "training_df=pd.DataFrame(dict1, index=[1])"
      ],
      "metadata": {
        "id": "y1GBMETFWgsL"
      },
      "execution_count": null,
      "outputs": []
    },
    {
      "cell_type": "code",
      "source": [
        "#import the packages\n",
        "from sklearn.metrics import mean_squared_error\n",
        "#calculate MSE\n",
        "MSE_lr= mean_squared_error(y_test, y_pred_test)\n",
        "print(\"MSE\",MSE_lr)\n",
        "\n",
        "#calculate RMSE\n",
        "RMSE_lr=np.sqrt(MSE_lr)\n",
        "print(\"RMSE :\", RMSE_lr)\n",
        "\n",
        "#calculate MAE\n",
        "MAE_lr= mean_absolute_error(y_test, y_pred_test)\n",
        "print('MAE: MAE_lr')\n",
        "\n",
        "#import the packages\n",
        "from sklearn.metrics import r2_score\n",
        "#calculate r2 and adjusted r2\n",
        "r2_lr= r2_score((y_test), (y_pred_test))\n",
        "print(\"R2:\",r2_lr)\n",
        "Adjusted_R2_lr=(1-(1-r2_score((y_test), (y_pred_test)))*((X_test.shape[0]-1)/(X_test.shape[0]-X_test.shape[1]-1)))\n",
        "print(\"Adjusted R2:\",Adjusted_R2_lr)"
      ],
      "metadata": {
        "id": "LuqZM3a4K_2D"
      },
      "execution_count": null,
      "outputs": []
    },
    {
      "cell_type": "markdown",
      "source": [
        "The test set's r2 score is 0.80. This means our linear model is performing well on the data. Let us try to visualize our residuals and see if\n",
        "there is heteroscedasticity(unequal variance or scatter)."
      ],
      "metadata": {
        "id": "JSOsjMpAMVPW"
      }
    },
    {
      "cell_type": "code",
      "source": [
        "# storing the test set metrics value in a dataframe for later comparison\n",
        "dict2={'Model':'Linear regression',\n",
        "       'MAE': round((MAE_lr),3),\n",
        "       'MSE': round((MSE_lr),3),\n",
        "       'RMSE': round((RMSE_lr),3),\n",
        "      'R2_score':round((r2_lr),3),\n",
        "      'Adjusted R2':round((Adjusted_R2_lr ),2)\n",
        "}\n",
        "\n",
        "\n",
        "test_df=pd.DataFrame(dict1, index=[1])"
      ],
      "metadata": {
        "id": "4vCn05Y8MZ4-"
      },
      "execution_count": null,
      "outputs": []
    },
    {
      "cell_type": "markdown",
      "source": [
        "# Heteroscedasticity"
      ],
      "metadata": {
        "id": "289xB0fDNH-L"
      }
    },
    {
      "cell_type": "markdown",
      "source": [
        "Heteroscedasticity refers to a situation where the variance of the errors (residuals) is not constant across all levels of the independent\n",
        "variable(s) in a regression model. This violates one of the assumptions of linear regression, which is that the variance of the errors should be\n",
        "constant (homoscedastic) for all levels of the independent variable(s). If the plot shows a funnel shape, with the spread of residuals increasing\n",
        "or decreasing as the predicted values increase, this is an indication of heteroscedasticity."
      ],
      "metadata": {
        "id": "MQp7sR3yNGXX"
      }
    },
    {
      "cell_type": "code",
      "source": [
        "# Heteroscadacity Residual plot\n",
        "plt.scatter((y_pred_test), (y_test)-(y_pred_test))\n",
        "plt.xlabel('Predicted values')\n",
        "plt.ylabel('Residuals')\n",
        "plt.title('Residual Plot')\n",
        "plt.show()"
      ],
      "metadata": {
        "id": "fRiZHenNNTNA"
      },
      "execution_count": null,
      "outputs": []
    },
    {
      "cell_type": "code",
      "source": [
        "# Actual Price vs predicte for Linear Regression plot\n",
        "plt.figure(figsize=(10,8))\n",
        "plt.plot(y_pred_test)\n",
        "plt.plot(np.array(y_test))\n",
        "plt.legend([\"Predicted\",\"Actual\"])\n",
        "plt.xlabel('No of Test Data')\n",
        "plt.show()"
      ],
      "metadata": {
        "id": "i23EEowINuQv"
      },
      "execution_count": null,
      "outputs": []
    },
    {
      "cell_type": "markdown",
      "source": [
        "# **Ridge and Lasso Regression**"
      ],
      "metadata": {
        "id": "_2F3N7CYOFLn"
      }
    },
    {
      "cell_type": "markdown",
      "source": [
        "* Ridge and Lasso Regression are types of Regularization techniques\n",
        "* Regularization techniques are used to deal with overfitting and when the dataset is large\n",
        "* Ridge and Lasso Regression involve adding penalties to the regression function"
      ],
      "metadata": {
        "id": "QxGW6uJDOTEV"
      }
    },
    {
      "cell_type": "markdown",
      "source": [
        "# **Lasso Regression**"
      ],
      "metadata": {
        "id": "Pv0rTgh1OX3E"
      }
    },
    {
      "cell_type": "markdown",
      "source": [
        "Lasso regression analysis is a shrinkage and variable selection method for linear regression models. The goal of lanso regression is to obtain\n",
        "the subset of pradictors that minimizes prediction error for a quantitative response variable. It uses the Linear regression model with L1\n",
        "regularization."
      ],
      "metadata": {
        "id": "4DCINL2HOg4P"
      }
    },
    {
      "cell_type": "code",
      "source": [
        "from sklearn.linear_model import Lasso\n",
        "from sklearn.model_selection import GridSearchCV"
      ],
      "metadata": {
        "id": "BTKASQhIOjEi"
      },
      "execution_count": null,
      "outputs": []
    },
    {
      "cell_type": "code",
      "source": [
        "# Create an instance of Lasso Regression implementation\n",
        "from sklearn.linear_model import Lasso\n",
        "lasso=Lasso(alpha=1.0, max_iter=3000)\n",
        "# Fit the Lasso model\n",
        "lasso.fit(X_train, y_train)\n",
        "# Create the model score\n",
        "print(lasso.score(X_test, y_test), lasso.score(X_train, y_train))"
      ],
      "metadata": {
        "id": "p8GVXP72OzkG"
      },
      "execution_count": null,
      "outputs": []
    },
    {
      "cell_type": "code",
      "source": [
        "#get the x train and X-test value\n",
        "y_pred_train_lasso=lasso.predict(X_train)\n",
        "y_pred_test_lasso=lasso.predict(X_test)"
      ],
      "metadata": {
        "id": "QzuKz5f4Pd-o"
      },
      "execution_count": null,
      "outputs": []
    },
    {
      "source": [
        "#calculate MSE\n",
        "MSE_l= mean_squared_error((y_train), (y_pred_train_lasso))\n",
        "print(\"MSE\",MSE_l)\n",
        "\n",
        "#calculate RASE\n",
        "RMSE_l=np.sqrt(MSE_l)\n",
        "print(\"RMSE:\", RMSE_l)\n",
        "\n",
        "#calculate MAE\n",
        "MAE_l= mean_absolute_error(y_train, y_pred_train_lasso)\n",
        "print(\"MAE :\",MAE_l)\n",
        "\n",
        "#calculate r2 and adjusted r2\n",
        "r2_l= r2_score(y_train, y_pred_train_lasso)\n",
        "print(\"R2:\",r2_l)\n",
        "Adjusted_R2_l = (1-(1-r2_score(y_train, y_pred_train_lasso))*((X_test.shape[0]-1)/(X_train.shape[0]-X_test.shape[1]-1)))\n",
        "print(\"Adjusted R2 :\",1-(1-r2_score(y_train, y_pred_train_lasso))*((X_test.shape[0]-1)/(X_train.shape[0]-X_test.shape[1]-1)) )"
      ],
      "cell_type": "code",
      "metadata": {
        "id": "EOY5rEZHRhSL"
      },
      "execution_count": null,
      "outputs": []
    },
    {
      "cell_type": "markdown",
      "source": [
        "Looks like train set's r2 score value is 0.39 that means our model is not able to capture most of the data variance. Let's save it in a dataframe for letter comparisions"
      ],
      "metadata": {
        "id": "utnobR0XSlXe"
      }
    },
    {
      "cell_type": "code",
      "source": [
        "# storing the test set metrics value in a dataframe for later comparison\n",
        "dict1={'Model':'Linear regression',\n",
        "       'MAE': round((MAE_l),3),\n",
        "       'MSE': round((MSE_l),3),\n",
        "       'RMSE': round((RMSE_l),3),\n",
        "      'R2_score':round((r2_l),3),\n",
        "      'Adjusted R2':round((Adjusted_R2_l ),2)\n",
        "}\n",
        "\n",
        "\n",
        "training_df=training_df.append(dict1,ignore_index=True)"
      ],
      "metadata": {
        "id": "4qC6g5RqSDRR"
      },
      "execution_count": null,
      "outputs": []
    },
    {
      "cell_type": "code",
      "source": [
        "from sklearn.metrics import mean_squared_error\n",
        "#calculate NSE\n",
        "MSE_l= mean_squared_error(y_test, y_pred_test_lasso)\n",
        "print(\"MSE:\",MSE_l)\n",
        "\n",
        "#calculate RMSE\n",
        "RMSE_l=np.sqrt (MSE_l)\n",
        "print(\"RNSE:\", RMSE_l)\n",
        "\n",
        "#calculate MAE\n",
        "MAE_l= mean_absolute_error(y_test, y_pred_test_lasso)\n",
        "print(\"MAE:\",MAE_l)\n",
        "\n",
        "from sklearn.metrics import r2_score\n",
        "#calculate r2 and adjusted r2\n",
        "r2_l= r2_score((y_test), (y_pred_test_lasso))\n",
        "print(\"R2:\",r2_l)\n",
        "Adjusted_R2_l=(1-(1-r2_score((y_test), (y_pred_test_lasso)))*((X_test.shape[0]-1)/(X_test.shape[0]-X_test.shape[1]-1)))\n",
        "print(\"Adjusted R2 :\",1-(1-r2_score((y_test), (y_pred_test_lasso)))*((X_test.shape[0]-1)/(X_test.shape[0]-X_test.shape[1]-1)))"
      ],
      "metadata": {
        "id": "PGqEJ2TrTUD1"
      },
      "execution_count": null,
      "outputs": []
    },
    {
      "cell_type": "markdown",
      "source": [
        "The test set's r2 score is 0.38. This means our linear model is not performing well on the data."
      ],
      "metadata": {
        "id": "Iu0kNhZIUiMw"
      }
    },
    {
      "cell_type": "code",
      "source": [
        "# storing the test set metrics value in a dataframe for later comparison\n",
        "dict2={'Model':'Linear regression',\n",
        "       'MAE': round((MAE_l),3),\n",
        "       'MSE': round((MSE_l),3),\n",
        "       'RMSE': round((RMSE_l),3),\n",
        "      'R2_score':round((r2_l),3),\n",
        "      'Adjusted R2':round((Adjusted_R2_l ),2)\n",
        "}\n",
        "\n",
        "\n",
        "teast_df=test_df.append(dict1,ignore_index=True)"
      ],
      "metadata": {
        "id": "bTqI-Dr-Umac"
      },
      "execution_count": null,
      "outputs": []
    },
    {
      "cell_type": "code",
      "source": [
        "# Heteroscadacity Residual plot\n",
        "plt.scatter((y_pred_test_lasso), (y_test-y_pred_test_lasso))\n",
        "plt.xlabel(\"Predicted Values\")\n",
        "plt.ylabel('Residuals')\n",
        "plt.title('Residual Plot')\n",
        "plt.show()"
      ],
      "metadata": {
        "id": "59k47hASU4bT"
      },
      "execution_count": null,
      "outputs": []
    },
    {
      "cell_type": "code",
      "source": [
        "#Plot the figure\n",
        "plt.figure(figsize=(10,8))\n",
        "plt.plot(np.array(y_pred_test_lasso))\n",
        "plt.plot(np.array((y_test)))\n",
        "plt.legend ([\"Predicted\", \"Actual\"])\n",
        "plt.show()"
      ],
      "metadata": {
        "id": "_-G6AKD_VPfx"
      },
      "execution_count": null,
      "outputs": []
    },
    {
      "cell_type": "markdown",
      "source": [
        "# **Ridge Regression**"
      ],
      "metadata": {
        "id": "aKbaRCleVpJX"
      }
    },
    {
      "cell_type": "markdown",
      "source": [
        "Ridge regression is a method of estimating the coefficients of regression models in scenarios where the independent variables are highly\n",
        "correlated. It uses the linear regression model with the 12 regularization met"
      ],
      "metadata": {
        "id": "PAdMM5lRVuMR"
      }
    },
    {
      "cell_type": "code",
      "source": [
        "# import the packages\n",
        "from sklearn.linear_model import Ridge\n",
        "ridge = Ridge(alpha=0.1)"
      ],
      "metadata": {
        "id": "qCTnWz_lV117"
      },
      "execution_count": null,
      "outputs": []
    },
    {
      "cell_type": "code",
      "source": [
        "#FIT THE MODEL\n",
        "ridge.fit(X_train,y_train)\n"
      ],
      "metadata": {
        "id": "gQowWCB4WG_d"
      },
      "execution_count": null,
      "outputs": []
    },
    {
      "cell_type": "code",
      "source": [
        "#check the score\n",
        "ridge.score(X_train, y_train)"
      ],
      "metadata": {
        "id": "GaQMWuEJWRyJ"
      },
      "execution_count": null,
      "outputs": []
    },
    {
      "cell_type": "code",
      "source": [
        "# get the X train and x-test value\n",
        "y_pred_train_ridge=ridge.predict(X_train)\n",
        "y_pred_test_ridge=ridge.predict(X_test)"
      ],
      "metadata": {
        "id": "G1AIktUZWZ4U"
      },
      "execution_count": null,
      "outputs": []
    },
    {
      "cell_type": "code",
      "source": [
        "y_pred_train_ridge"
      ],
      "metadata": {
        "id": "THwjaHlFXJ1u"
      },
      "execution_count": null,
      "outputs": []
    },
    {
      "cell_type": "code",
      "source": [
        "y_pred_test_ridge"
      ],
      "metadata": {
        "id": "42ZFGxNiXPVf"
      },
      "execution_count": null,
      "outputs": []
    },
    {
      "cell_type": "code",
      "source": [
        "#import the packages\n",
        "from sklearn.metrics import mean_squared_error\n",
        "#calculate MSE\n",
        "MSE_r= mean_squared_error((y_train), (y_pred_train_ridge))\n",
        "print(\"MSE:\",MSE_r)\n",
        "\n",
        "#calculate RMSE\n",
        "RMSE_r=np.sqrt(MSE_r)\n",
        "print(\"RMSE:\", RMSE_r)\n",
        "\n",
        "#calculate MAE\n",
        "MAE_r = mean_absolute_error(y_train, y_pred_train_ridge)\n",
        "print(\"MAE:\",MAE_r)\n",
        "\n",
        "#import the packages\n",
        "from sklearn.metrics import r2_score\n",
        "#calculate r2 and adjusted r2\n",
        "r2_r= r2_score(y_train, y_pred_train_ridge)\n",
        "print(\"R2 :\",r2_r)\n",
        "Adjusted_R2_r=(1-(1-r2_score(y_train, y_pred_train_ridge))*((X_test.shape [0]-1)/(X_test.shape [0]-X_test.shape[1]-1)))\n",
        "print(\"Adjusted R2 :\",1-(1-r2_score(y_train, y_pred_train_ridge))*((X_test.shape[0]-1)/(X_test.shape[0]-X_test.shape[1]-1)))"
      ],
      "metadata": {
        "id": "dSVmoRFSXs6V"
      },
      "execution_count": null,
      "outputs": []
    },
    {
      "cell_type": "code",
      "source": [
        "# storing the test set metrics value in a dataframe for later comparison\n",
        "dict2={'Model':'Linear regression',\n",
        "       'MAE': round((MAE_l),3),\n",
        "       'MSE': round((MSE_l),3),\n",
        "       'RMSE': round((RMSE_l),3),\n",
        "      'R2_score':round((r2_l),3),\n",
        "      'Adjusted R2':round((Adjusted_R2_l ),2)\n",
        "}\n",
        "\n",
        "\n",
        "traning_df=training_df.append(dict1,ignore_index=True)"
      ],
      "metadata": {
        "id": "d16pqBqSZD1i"
      },
      "execution_count": null,
      "outputs": []
    },
    {
      "cell_type": "markdown",
      "source": [
        "Looks like our train set's r2 score value is 0.79 that means our model is able to capture most of the data variance. Lets save it in a dataframe for letter comparisons."
      ],
      "metadata": {
        "id": "4XZZt_BXYsF7"
      }
    },
    {
      "cell_type": "code",
      "source": [
        "#import the packages\n",
        "from sklearn.metrics import mean_squared_error\n",
        "#calculate MSE\n",
        "MSE_r= mean_squared_error(y_test, y_pred_test_ridge)\n",
        "print(\"MSE:\",MSE_r)\n",
        "\n",
        "#calculate RMSE\n",
        "RMSE_r =np.sqrt(MSE_r)\n",
        "print(\"RMSE:\", RMSE_r)\n",
        "\n",
        "#calculate MAE\n",
        "MAE_r= mean_absolute_error(y_test, y_pred_test_ridge)\n",
        "print(\"MAE:\",MAE_r)\n",
        "\n",
        "#import the packages\n",
        "from sklearn.metrics import r2_score\n",
        "#calculate r2 and adjusted r2\n",
        "r2_r= r2_score((y_test), (y_pred_test_ridge))\n",
        "print(\"R2:\",r2_r)\n",
        "Adjusted_R2_r=(1-(1-r2_score((y_test), (y_pred_test_ridge)))*((X_test.shape [0]-1)/(X_test.shape [0]-X_test.shape[1]-1)))\n",
        "print(\"Adjusted R2 :\",1-(1-r2_score((y_test), (y_pred_test_ridge)))*((X_test.shape [0] -1)/(X_test.shape [0]-X_test.shape[1]-1)))"
      ],
      "metadata": {
        "id": "corqrn0lZzhq"
      },
      "execution_count": null,
      "outputs": []
    },
    {
      "cell_type": "markdown",
      "source": [
        "The r2_score for the test set is 0.80. This means our linear model is performimg well on the data. Let us try to visualize our residuals and see if there is heteroscedasticity(unequal variance or scatter)."
      ],
      "metadata": {
        "id": "h30SPmv_a4BT"
      }
    },
    {
      "cell_type": "code",
      "source": [
        "# storing the test set metrics value in a dataframe for later comparison\n",
        "dict2={'Model':'Linear regression',\n",
        "       'MAE': round((MAE_l),3),\n",
        "       'MSE': round((MSE_l),3),\n",
        "       'RMSE': round((RMSE_l),3),\n",
        "      'R2_score':round((r2_l),3),\n",
        "      'Adjusted R2':round((Adjusted_R2_l ),2)\n",
        "}\n",
        "\n",
        "\n",
        "test_df=test_df.append(dict1,ignore_index=True)"
      ],
      "metadata": {
        "id": "xWxiTY6DbXF8"
      },
      "execution_count": null,
      "outputs": []
    },
    {
      "cell_type": "code",
      "source": [
        "# Heteroscadacity Residual plot\n",
        "plt.scatter((y_pred_test_ridge), (y_test)-(y_pred_test_ridge))\n",
        "plt.xlabel('Predicted Values')\n",
        "plt.ylabel('Residuals')\n",
        "plt.title('Residual plot')\n",
        "plt.show()"
      ],
      "metadata": {
        "id": "yt8NSZ1tbyah"
      },
      "execution_count": null,
      "outputs": []
    },
    {
      "cell_type": "code",
      "source": [
        "#Plot the figure\n",
        "plt.figure(figsize=(10,8))\n",
        "plt.plot((y_pred_test_ridge))\n",
        "plt.plot((np.array(y_test)))\n",
        "plt.legend([\"Predicted\", \"Actual\"])\n",
        "plt.show()"
      ],
      "metadata": {
        "id": "vIkhuqE1cLVL"
      },
      "execution_count": null,
      "outputs": []
    },
    {
      "cell_type": "markdown",
      "source": [
        "# **Ridge Regression**"
      ],
      "metadata": {
        "id": "Z6I8PbykciKd"
      }
    },
    {
      "cell_type": "markdown",
      "source": [
        "Ridge regression is a method of estimating the coefficients of regression models in scenarios where the independent variables are highly correlated. It uses the linear regression model with the L2 regularization method."
      ],
      "metadata": {
        "id": "HrVnrvIGcmNg"
      }
    },
    {
      "cell_type": "code",
      "source": [
        "# Import the packages\n",
        "from sklearn.linear_model import Ridge\n",
        "\n",
        "ridge = Ridge(alpha = 0.1)"
      ],
      "metadata": {
        "id": "5WmFrbZldJFt"
      },
      "execution_count": null,
      "outputs": []
    },
    {
      "cell_type": "code",
      "source": [
        "# Fit the model\n",
        "ridge.fit(X_train, y_train)"
      ],
      "metadata": {
        "id": "FQnHbVv-dXLO"
      },
      "execution_count": null,
      "outputs": []
    },
    {
      "cell_type": "code",
      "source": [
        "# Check the score\n",
        "ridge.score(X_train, y_train)"
      ],
      "metadata": {
        "id": "bmdZWef0dfJX"
      },
      "execution_count": null,
      "outputs": []
    },
    {
      "cell_type": "code",
      "source": [
        "# Get the X_train and X_test value\n",
        "y_pred_train_ridge=ridge.predict(X_train)\n",
        "y_pred_test_ridge=ridge.predict(X_test)"
      ],
      "metadata": {
        "id": "VaIWamyqdpTt"
      },
      "execution_count": null,
      "outputs": []
    },
    {
      "cell_type": "code",
      "source": [
        "y_pred_train_ridge"
      ],
      "metadata": {
        "id": "s9bm15wueDX6"
      },
      "execution_count": null,
      "outputs": []
    },
    {
      "cell_type": "code",
      "source": [
        "y_pred_test_ridge"
      ],
      "metadata": {
        "id": "wrW72wkQeIPH"
      },
      "execution_count": null,
      "outputs": []
    },
    {
      "cell_type": "code",
      "source": [
        "#import the packages\n",
        "from sklearn.metrics import mean_squared_error\n",
        "#calculate MSE\n",
        "MSE_r= mean_squared_error((y_train), (y_pred_train_ridge))\n",
        "print(\"MSE:\",MSE_r)\n",
        "\n",
        "#calculate RMSE\n",
        "RMSE_r =np.sqrt(MSE_r)\n",
        "print(\"RMSE:\", RMSE_r)\n",
        "\n",
        "#calculate MAE\n",
        "MAE_r= mean_absolute_error(y_train, y_pred_train_ridge)\n",
        "print(\"MAE:\",MAE_r)\n",
        "\n",
        "#import the packages\n",
        "from sklearn.metrics import r2_score\n",
        "#calculate r2 and adjusted r2\n",
        "r2_r= r2_score(y_train, y_pred_train_ridge)\n",
        "print(\"R2:\",r2_r)\n",
        "Adjusted_R2_r-(1-(1-r2_score(y_train, y_pred_train_ridge))*((X_test.shape[0]-1)/(X_test.shape[0]-X_test.shape[1]-1)))\n",
        "print(\"Adjusted R2:\" ,1-(1-r2_score(y_train, y_pred_train_ridge))*((X_test.shape[0]-1)/(X_test.shape[0]-X_test.shape[1]-1)))"
      ],
      "metadata": {
        "id": "iDv4PJlRep2G"
      },
      "execution_count": null,
      "outputs": []
    },
    {
      "cell_type": "markdown",
      "source": [
        "Looks like our train set's r2 score value is 0.79 that means our model is able to capture most of the data variance. Lets save it in a dataframe for later comparisons."
      ],
      "metadata": {
        "id": "nqKm6asVf5as"
      }
    },
    {
      "cell_type": "code",
      "source": [
        "# storing the test set metrics value in a dataframe for later comparison\n",
        "dict1={'Model':'Linear regression',\n",
        "       'MAE': round((MAE_l),3),\n",
        "       'MSE': round((MSE_l),3),\n",
        "       'RMSE': round((RMSE_l),3),\n",
        "      'R2_score':round((r2_l),3),\n",
        "      'Adjusted R2':round((Adjusted_R2_l ),2)\n",
        "}\n",
        "\n",
        "\n",
        "training_df=training_df.append(dict1,ignore_index=True)"
      ],
      "metadata": {
        "id": "EIrgcI5agb1T"
      },
      "execution_count": null,
      "outputs": []
    },
    {
      "cell_type": "code",
      "source": [
        "# import the packages\n",
        "from sklearn.metrics import mean_squared_error\n",
        "#calculate MSE\n",
        "MSE_r=mean_squared_error(y_test, y_pred_test_ridge)\n",
        "print(\"MSE:\",MSE_r)\n",
        "\n",
        "#calculate RMSE\n",
        "RMSE_r=np. sqrt(MSE_r)\n",
        "print(\"RMSE:\", RMSE_r)\n",
        "\n",
        "#calculate MAE\n",
        "MAE_r = mean_absolute_error(y_test, y_pred_test_ridge)\n",
        "print(\"MAE :\",MAE_r)\n",
        "\n",
        "#import the packages\n",
        "from sklearn.metrics import r2_score\n",
        "#calculate r2 and adjusted r2\n",
        "r2_r- r2_score((y_test), (y_pred_test_ridge))\n",
        "print(\"R2:\",r2_r)\n",
        "Adjusted_R2_r=(1-(1-r2_score((y_test), (y_pred_test_ridge)))*((X_test.shape[0]-1)/(X_test.shape [0]-X_test.shape[1]-1)))\n",
        "print(\"Adjusted R2 :\",1-(1-r2_score((y_test), (y_pred_test_ridge)))*((X_test.shape[0]-1)/(X_test.shape[0]-X_test.shape[1]-1)))"
      ],
      "metadata": {
        "id": "vK8Uznv0hBOg"
      },
      "execution_count": null,
      "outputs": []
    },
    {
      "cell_type": "markdown",
      "source": [
        "The r2_score for the test set is 0.80. This means our linear model is performing well on the data. Let us try to visualize our residuals and see if there is heteroscedasticity(unequal variance or scatter)."
      ],
      "metadata": {
        "id": "A-rhd-Y9htA1"
      }
    },
    {
      "cell_type": "code",
      "source": [
        "# storing the test set metrics value in a dataframe for later comparison\n",
        "dict2={'Model':'Linear regression',\n",
        "       'MAE': round((MAE_l),3),\n",
        "       'MSE': round((MSE_l),3),\n",
        "       'RMSE': round((RMSE_l),3),\n",
        "      'R2_score':round((r2_l),3),\n",
        "      'Adjusted R2':round((Adjusted_R2_l ),2)\n",
        "}\n",
        "\n",
        "\n",
        "test_df=test_df.append(dict1,ignore_index=True)"
      ],
      "metadata": {
        "id": "QjAJuwHYiRf1"
      },
      "execution_count": null,
      "outputs": []
    },
    {
      "cell_type": "code",
      "source": [
        "# Heteroscadacity - Residual plot\n",
        "plt.scatter((y_pred_test_ridge), (y_test)-(y_pred_test_ridge))\n",
        "plt.xlabel('Predicted Values')\n",
        "plt.ylabel('Residuals')\n",
        "plt.title('Residual Plot')\n",
        "plt.show()"
      ],
      "metadata": {
        "id": "FpQzzxSDisHJ"
      },
      "execution_count": null,
      "outputs": []
    },
    {
      "cell_type": "code",
      "source": [
        "#Plot the figure\n",
        "plt.figure(figsize=(10,8))\n",
        "plt.plot((y_pred_test_ridge))\n",
        "plt.plot((np.array(y_test)))\n",
        "plt.legend ([\"Predicted\", \"Actual\"])\n",
        "plt.show()"
      ],
      "metadata": {
        "id": "czKnVHyCjBHK"
      },
      "execution_count": null,
      "outputs": []
    },
    {
      "cell_type": "markdown",
      "source": [
        "# **ELASTIC NET REGRESSION**"
      ],
      "metadata": {
        "id": "Vbkl3PmLjmHu"
      }
    },
    {
      "cell_type": "markdown",
      "source": [
        "Elastic Net regression is a linear regression model that combines both L1 (Lasso) and L2 (Ridge) regularization penalties to overcome some of\n",
        "the limitations of each individual method.\n",
        "The model introduces two hyperparameters, alpha and 11 ratio, which control the strength of the L1 and 12 penalties, respectively. Elastic Net\n",
        "regression is particularly useful when dealing with datasets that have high dimensionality and multicollinearity between features."
      ],
      "metadata": {
        "id": "lvMMiivzjku1"
      }
    },
    {
      "cell_type": "code",
      "source": [
        " #import the packages\n",
        "from sklearn.linear_model import ElasticNet\n",
        "#a L1 + b * L2\n",
        "#alpha = a + b and 11_ratio=a/ (a + b)\n",
        "elasticnet = ElasticNet (alpha=0.1, l1_ratio=0.5)"
      ],
      "metadata": {
        "id": "b8sPf14xjtha"
      },
      "execution_count": null,
      "outputs": []
    },
    {
      "cell_type": "code",
      "source": [
        "# FIT THE MODEL\n",
        "elasticnet.fit(X_train, y_train)"
      ],
      "metadata": {
        "id": "hscP9z95kCvs"
      },
      "execution_count": null,
      "outputs": []
    },
    {
      "cell_type": "code",
      "source": [
        "#check the score\n",
        "elasticnet.score(X_train, y_train)"
      ],
      "metadata": {
        "id": "W38fpCmgkd3j"
      },
      "execution_count": null,
      "outputs": []
    },
    {
      "cell_type": "code",
      "source": [
        "#get the x_train and X-test value\n",
        "y_pred_train_en=elasticnet.predict(X_train)\n",
        "y_pred_test_en=elasticnet.predict(X_test)"
      ],
      "metadata": {
        "id": "8q5ZXfj6kk0J"
      },
      "execution_count": null,
      "outputs": []
    },
    {
      "cell_type": "code",
      "source": [
        "print(y_pred_train_en)\n",
        "print(y_pred_test_en)"
      ],
      "metadata": {
        "id": "T_PkrYDGksmd"
      },
      "execution_count": null,
      "outputs": []
    },
    {
      "cell_type": "code",
      "source": [
        " #import the packages\n",
        "from sklearn.metrics import mean_squared_error\n",
        "#calculate MSE\n",
        "MSE_e= mean_squared_error((y_train), (y_pred_train_en))\n",
        "print(\"MSE:\",MSE_e)\n",
        "\n",
        "#calculate RMSE\n",
        "RMSE_e=np.sqrt(MSE_e)\n",
        "print(\"RMSE:\", RMSE_e)\n",
        "\n",
        "#calculate MAE\n",
        "MAE_e= mean_absolute_error(y_train, y_pred_train_en)\n",
        "print(\"MAE :\",MAE_e)\n",
        "\n",
        "#import the packages\n",
        "from sklearn.metrics import r2_score\n",
        "#calculate r2 and adjusted r2\n",
        "r2_e= r2_score(y_train, y_pred_train_en)\n",
        "print(\"R2:\",r2_e)\n",
        "Adjusted_R2_e=(1-(1-r2_score(y_train, y_pred_train_en))*((X_test.shape [0]-1)/(X_test.shape[0]-X_test.shape[1]-1)))\n",
        "print(\"Adjusted R2 :\",1-(1-r2_score(y_train, y_pred_train_en))*((X_test.shape[0]-1)/(X_test.shape[0]-X_test.shape[1]-1)))"
      ],
      "metadata": {
        "id": "LV52fa_slMIk"
      },
      "execution_count": null,
      "outputs": []
    },
    {
      "cell_type": "markdown",
      "source": [
        "Looks like our train set's r2 score value is 0.64 that means our model is able to capture most of the data variance. Lets save it in a dataframe for later comparisons."
      ],
      "metadata": {
        "id": "ecTEVB26lzLk"
      }
    },
    {
      "cell_type": "code",
      "source": [
        "# storing the test set metrics value in a dataframe for later comparison\n",
        "dict2={'Model':'Linear regression',\n",
        "       'MAE': round((MAE_l),3),\n",
        "       'MSE': round((MSE_l),3),\n",
        "       'RMSE': round((RMSE_l),3),\n",
        "      'R2_score':round((r2_l),3),\n",
        "      'Adjusted R2':round((Adjusted_R2_l ),2)\n",
        "}\n",
        "\n",
        "\n",
        "training_df=traning_df.append(dict1,ignore_index=True)"
      ],
      "metadata": {
        "id": "KqAG0vkdnQop"
      },
      "execution_count": null,
      "outputs": []
    },
    {
      "cell_type": "code",
      "source": [
        "# import the packages\n",
        "from sklearn.metrics import mean_squared_error\n",
        "#calculate MSE\n",
        "MSE_e= mean_squared_error(y_test, y_pred_test_en)\n",
        "print(\"MSE:\",MSE_e)\n",
        "\n",
        "#calculate RMSE\n",
        "RMSE_e=np. sqrt (MSE_e)\n",
        "print(\"RMSE:\", RMSE_e)\n",
        "\n",
        "#calculate MAE\n",
        "MAE_e= mean_absolute_error(y_test, y_pred_test_en)\n",
        "print(\"MAE:\",MAE_e)\n",
        "#import the packages\n",
        "from sklearn.metrics import r2_score\n",
        "#calculate r2 and adjusted r2\n",
        "r2_e= r2_score((y_test), (y_pred_test_en))\n",
        "print(\"R2:\",r2_e)\n",
        "Adjusted_R2_e-(1-(1-r2_score((y_test), (y_pred_test_en)))*((X_test.shape[0]-1)/(X_test.shape[0]-X_test.shape[1]-1)))\n",
        "print(\"Adjusted R2 :\",1-(1-r2_score((y_test), (y_pred_test_en)))*((X_test.shape[0]-1)/(X_test.shape[0]-X_test.shape[1]-1)))"
      ],
      "metadata": {
        "id": "bQamparan9HB"
      },
      "execution_count": null,
      "outputs": []
    },
    {
      "cell_type": "markdown",
      "source": [
        "The r2_score for the test set is 0.63. This means our linear model is performing well on the data. Let us try to visualize our residuals and see if there is heteroscedasticity(unequal variance or scatter)"
      ],
      "metadata": {
        "id": "Dndg9N1-opuz"
      }
    },
    {
      "cell_type": "code",
      "source": [
        "# storing the test set metrics value in a dataframe for later comparison\n",
        "dict2={'Model':'Linear regression',\n",
        "       'MAE': round((MAE_l),3),\n",
        "       'MSE': round((MSE_l),3),\n",
        "       'RMSE': round((RMSE_l),3),\n",
        "      'R2_score':round((r2_l),3),\n",
        "      'Adjusted R2':round((Adjusted_R2_l ),2)\n",
        "}\n",
        "\n",
        "\n",
        "test_df=test_df.append(dict1,ignore_index=True)"
      ],
      "metadata": {
        "id": "bgtG9-D2pe3g"
      },
      "execution_count": null,
      "outputs": []
    },
    {
      "cell_type": "code",
      "source": [
        "# Heteroscadacity- Residual plo\n",
        "plt.scatter((y_pred_test_en), (y_test)-(y_pred_test_en))\n",
        "plt.xlabel('Predicted values')\n",
        "plt.ylabel('Residuals')\n",
        "plt.title('Residual Plot')\n",
        "plt.show()"
      ],
      "metadata": {
        "id": "GzTfEWkBp3KK"
      },
      "execution_count": null,
      "outputs": []
    },
    {
      "cell_type": "code",
      "source": [
        "#Plot the figure\n",
        "plt.figure(figsize=(10,8))\n",
        "plt.plot(np.array(y_pred_test_en))\n",
        "plt.plot((np.array(y_test)))\n",
        "plt.legend([\"Predicted\", \"Actual\"])\n",
        "plt.show()"
      ],
      "metadata": {
        "id": "EzT37FOqqSS5"
      },
      "execution_count": null,
      "outputs": []
    },
    {
      "cell_type": "markdown",
      "source": [
        "# **Decision Tree**"
      ],
      "metadata": {
        "id": "W3_dCOR2rO87"
      }
    },
    {
      "cell_type": "markdown",
      "source": [
        "A decision tree is a type of supervised machine learning algorithm that is commonly used for classification and regression tasks. it works by\n",
        "recursively splitting the data into subsets based on the values of certain attributes, ultimately arriving at a set of decision rules that can be used\n",
        "to classify or predict outcomes for new data."
      ],
      "metadata": {
        "id": "W3Gl1u7_rWY8"
      }
    },
    {
      "cell_type": "code",
      "source": [
        "from sklearn.tree import DecisionTreeRegressor\n",
        "decision_regressor = DecisionTreeRegressor(criterion='friedman_mse', max_depth=8,\n",
        "                     max_features=9, max_leaf_nodes=100,)\n",
        "decision_regressor.fit(X_train, y_train)"
      ],
      "metadata": {
        "id": "d6rRgAdMrbaB"
      },
      "execution_count": null,
      "outputs": []
    },
    {
      "cell_type": "code",
      "source": [
        "#get the x_train and X-test value\n",
        "y_pred_train_d=decision_regressor.predict(X_train)\n",
        "y_pred_test_d=decision_regressor.predict(X_test)"
      ],
      "metadata": {
        "id": "bArdoqwirzhc"
      },
      "execution_count": null,
      "outputs": []
    },
    {
      "cell_type": "code",
      "source": [
        "print (y_pred_train_d)\n",
        "print(y_pred_test_d)"
      ],
      "metadata": {
        "id": "AH31Bo5usW6S"
      },
      "execution_count": null,
      "outputs": []
    },
    {
      "cell_type": "code",
      "source": [
        "#import the packages\n",
        "from sklearn.metrics import mean_squared_error\n",
        "print(\"Model Score:\",decision_regressor.score(X_train, y_train))\n",
        "\n",
        "#calculate MSE\n",
        "MSE_d= mean_squared_error(y_train, y_pred_train_d)\n",
        "print(\"MSE:\",MSE_d)\n",
        "\n",
        "#calculate RMSE\n",
        "RMSE_d=np.sqrt(MSE_d)\n",
        "print(\"RMSE:\", RMSE_d)\n",
        "\n",
        "#calculate MAE\n",
        "MAE_d= mean_absolute_error(y_train, y_pred_train_d)\n",
        "print(\"MAE:\",MAE_d)\n",
        "\n",
        "#import the packages\n",
        "from sklearn.metrics import r2_score\n",
        "#calculate r2 and adjusted r2\n",
        "r2_d= r2_score(y_train, y_pred_train_d)\n",
        "print(\"R2:\",r2_d)\n",
        "Adjusted_R2_d=(1-(1-r2_score(y_train, y_pred_train_d))*((X_test.shape [0]-1)/(X_test.shape[0]-X_test.shape[1]-1)))\n",
        "print(\"Adjusted R2\",1-(1-r2_score(y_train, y_pred_train_d))*((X_test.shape[0]-1)/(X_test.shape[0]-X_test.shape[1]-1)))"
      ],
      "metadata": {
        "id": "njpfcLKvstJp"
      },
      "execution_count": null,
      "outputs": []
    },
    {
      "cell_type": "markdown",
      "source": [
        "Looks like our train set's r2 score value is 0.70, that means our model is able to capture most of the data variance. Lets save it in a dataframe for later comparisons."
      ],
      "metadata": {
        "id": "HmyOWgLDuuMk"
      }
    },
    {
      "cell_type": "code",
      "source": [
        "# storing the test set metrics value in a dataframe for later comparison\n",
        "dict2={'Model':'Linear regression',\n",
        "       'MAE': round((MAE_l),3),\n",
        "       'MSE': round((MSE_l),3),\n",
        "       'RMSE': round((RMSE_l),3),\n",
        "      'R2_score':round((r2_l),3),\n",
        "      'Adjusted R2':round((Adjusted_R2_l ),2)\n",
        "}\n",
        "\n",
        "\n",
        "training_df=training_df.append(dict1,ignore_index=True)"
      ],
      "metadata": {
        "id": "NLxuPGTUvQYn"
      },
      "execution_count": null,
      "outputs": []
    },
    {
      "cell_type": "code",
      "source": [
        "#import the packages\n",
        "from sklearn.metrics import mean_squared_error\n",
        "#calculate MSE\n",
        "MSE_d= mean_squared_error(y_test, y_pred_test_d)\n",
        "print(\"MSE:\",MSE_d)\n",
        "\n",
        "#calculate RMSE\n",
        "RMSE_d=np.sqrt(MSE_d)\n",
        "print(\"RMSE:\", RMSE_d)\n",
        "\n",
        "#calculate MAE\n",
        "MAE_d= mean_absolute_error(y_test, y_pred_test_d)\n",
        "print(\"MAE :\",MAE_d)\n",
        "\n",
        "#import the packages\n",
        "from sklearn.metrics import r2_score\n",
        "#calculate r2 and adjusted r2\n",
        "r2_d= r2_score((y_test), (y_pred_test_d))\n",
        "print(\"R2:\",r2_d)\n",
        "Adjusted_R2_d-(1-(1-r2_score((y_test), (y_pred_test_d)))*((X_test.shape [0]-1)/(X_test.shape[0]-X_test.shape[1]-1)))\n",
        "print(\"Adjusted R2 :\",1-(1-r2_score((y_test), (y_pred_test_d)))*((X_test.shape[0]-1)/(X_test.shape[0]-X_test.shape[1]-1)))"
      ],
      "metadata": {
        "id": "AI4bTlDavq_h"
      },
      "execution_count": null,
      "outputs": []
    },
    {
      "cell_type": "markdown",
      "source": [
        "The r2_score for the test set is 0.68. This means our linear model is performing well on the data. Let us try to visualize our residuals and see if there heteroscedasticity(unequal variance or scatter)."
      ],
      "metadata": {
        "id": "vbg1y6hlwZrJ"
      }
    },
    {
      "cell_type": "code",
      "source": [
        " #storing the test set metrics value in a dataframe for later comparison\n",
        "dict2={'Model':'Linear regression',\n",
        "       'MAE': round((MAE_l),3),\n",
        "       'MSE': round((MSE_l),3),\n",
        "       'RMSE': round((RMSE_l),3),\n",
        "      'R2_score':round((r2_l),3),\n",
        "      'Adjusted R2':round((Adjusted_R2_l ),2)\n",
        "}\n",
        "\n",
        "\n",
        "test_df=test_df.append(dict1,ignore_index=True)"
      ],
      "metadata": {
        "id": "25V5FOurxBrX"
      },
      "execution_count": null,
      "outputs": []
    },
    {
      "cell_type": "code",
      "source": [
        "# Heteroscadacity Residual plot\n",
        "plt.scatter((y_pred_test_d), (y_test)-(y_pred_test_d))\n",
        "plt.xlabel('Predicted Values')\n",
        "plt.ylabel('Residuals')\n",
        "plt.title('Residual Plot')\n",
        "plt.show()"
      ],
      "metadata": {
        "id": "SyXVUbU6xYgp"
      },
      "execution_count": null,
      "outputs": []
    },
    {
      "cell_type": "code",
      "source": [
        "#Plot the figure\n",
        "plt.figure(figsize=(10,8))\n",
        "plt.plot((np.array(y_pred_test_d)))\n",
        "plt.plot(np.array((y_test)))\n",
        "plt.legend([\"Predicted\", \"Actual\"])\n",
        "plt.show()"
      ],
      "metadata": {
        "id": "9eLn_YfAxphj"
      },
      "execution_count": null,
      "outputs": []
    },
    {
      "cell_type": "markdown",
      "source": [
        "# **RANDOM FOREST**"
      ],
      "metadata": {
        "id": "s5RG2LMLyKlf"
      }
    },
    {
      "cell_type": "code",
      "source": [
        "# import the packages\n",
        "from sklearn.ensemble import RandomForestRegressor\n",
        "# Create an instance of the RandomForest Regressor\n",
        "rf_model= RandomForestRegressor()\n",
        "rf_model.fit(X_train,y_train)"
      ],
      "metadata": {
        "id": "mjY5-C0LyDmI"
      },
      "execution_count": null,
      "outputs": []
    },
    {
      "cell_type": "code",
      "source": [
        "# Making predictions on train and test data\n",
        "y_pred_train_r= rf_model.predict(X_train)\n",
        "y_pred_test_r= rf_model.predict(X_test)"
      ],
      "metadata": {
        "id": "JqSvjPwAyR_z"
      },
      "execution_count": null,
      "outputs": []
    },
    {
      "cell_type": "code",
      "source": [
        "#import the packages\n",
        "from sklearn.metrics import mean_squared_error\n",
        "print(\"Model Score: \",rf_model.score(X_train,y_train))\n",
        "\n",
        "#calculate MSE\n",
        "MSE_rf= mean_squared_error(y_train, y_pred_train_r)\n",
        "print(\"MSE:\",MSE_rf)\n",
        "\n",
        "#calculate RMSE\n",
        "RMSE_rf=np.sqrt(MSE_rf)\n",
        "print(\"RMSE :\",RMSE_rf)\n",
        "\n",
        "#calculate MAE\n",
        "MAE_rf= mean_absolute_error(y_train, y_pred_train_r)\n",
        "print(\"MAE :\",MAE_rf)\n",
        "\n",
        "#import the packages\n",
        "from sklearn.metrics import r2_score\n",
        "#calculate r2 and adjusted r2\n",
        "r2_rf= r2_score(y_train, y_pred_train_r)\n",
        "print(\"R2:\",r2_rf)\n",
        "Adjusted_R2_rf=(1-(1-r2_score(y_train, y_pred_train_r))*((X_test.shape[0]-1)/(X_test.shape[0]-X_test.shape[1]-1)) )\n",
        "print(\"Adjusted R2 :\",1-(1-r2_score(y_train, y_pred_train_r))*((X_test.shape[0]-1)/(X_test.shape[0]-X_test.shape[1]-1)))"
      ],
      "metadata": {
        "id": "21aDWwyaybxo"
      },
      "execution_count": null,
      "outputs": []
    },
    {
      "cell_type": "markdown",
      "source": [
        "The r2_score for the test set is 0.91.This means our linear model is performing well on the data.Let us try to visualize our residuals and see if there is heteroscedasticity(unequal variance or scatter)"
      ],
      "metadata": {
        "id": "KkyOrBFNzkTo"
      }
    },
    {
      "cell_type": "code",
      "source": [
        " #storing the test set metrics value in a dataframe for later comparison\n",
        "dict2={'Model':'Linear regression',\n",
        "       'MAE': round((MAE_l),3),\n",
        "       'MSE': round((MSE_l),3),\n",
        "       'RMSE': round((RMSE_l),3),\n",
        "      'R2_score':round((r2_l),3),\n",
        "      'Adjusted R2':round((Adjusted_R2_l ),2)\n",
        "}\n",
        "\n",
        "\n",
        "test_df=test_df.append(dict1,ignore_index=True)"
      ],
      "metadata": {
        "id": "PYyWJWMW0UPW"
      },
      "execution_count": null,
      "outputs": []
    },
    {
      "cell_type": "code",
      "source": [
        "# Heteroscadacity- Residual plot\n",
        "plt.scatter((y_pred_test_r), (y_test)-(y_pred_test_r))\n",
        "plt.xlabel('Predicted Values')\n",
        "plt.ylabel('Residuals')\n",
        "plt.title('Residual Plot')\n",
        "plt.show()"
      ],
      "metadata": {
        "id": "TIRn7nuj0myp"
      },
      "execution_count": null,
      "outputs": []
    },
    {
      "cell_type": "code",
      "source": [
        "rf_model.feature_importances_"
      ],
      "metadata": {
        "id": "oTblQKPa01_Q"
      },
      "execution_count": null,
      "outputs": []
    },
    {
      "cell_type": "markdown",
      "source": [
        "# **FEATURE STORED**"
      ],
      "metadata": {
        "id": "OJbjuQcM1Uyc"
      }
    },
    {
      "cell_type": "code",
      "source": [
        "importances = rf_model.feature_importances_\n",
        "importance_dict = {'Feature' : list(X_train.columns),\n",
        "                  'Feature Importance': importances}\n",
        "importance_df = pd.DataFrame(importance_dict)\n"
      ],
      "metadata": {
        "id": "r-AivGN41Y6r"
      },
      "execution_count": null,
      "outputs": []
    },
    {
      "cell_type": "code",
      "source": [
        "importance_df['Feature Importance'] = round(importance_df['Feature Importance'],2)"
      ],
      "metadata": {
        "id": "jjNTTPP-1ryJ"
      },
      "execution_count": null,
      "outputs": []
    },
    {
      "cell_type": "code",
      "source": [
        "importance_df.sort_values (by=['Feature Importance'], ascending=False)"
      ],
      "metadata": {
        "id": "WfARetB010xP"
      },
      "execution_count": null,
      "outputs": []
    },
    {
      "cell_type": "code",
      "source": [
        "#FIT THE MODEL\n",
        "rf_model.fit(X_train,y_train)"
      ],
      "metadata": {
        "id": "yAYvDXPA2UJJ"
      },
      "execution_count": null,
      "outputs": []
    },
    {
      "cell_type": "code",
      "source": [
        "features = X_train.columns\n",
        "importances = rf_model.feature_importances_\n",
        "indices = np.argsort(importances)"
      ],
      "metadata": {
        "id": "3FsMCMm-2Xjn"
      },
      "execution_count": null,
      "outputs": []
    },
    {
      "cell_type": "code",
      "source": [
        "#Plot the figure\n",
        "plt.figure(figsize=(10,20))\n",
        "plt.title('Feature Importance')\n",
        "plt.barh(range(len(indices)), importances [indices], color='blue', align='center')\n",
        "plt.yticks(range(len(indices)), [features[i] for i in indices])\n",
        "plt.xlabel('Relative Importance')\n",
        "plt.show()"
      ],
      "metadata": {
        "id": "dgnZ-rHL2nCg"
      },
      "execution_count": null,
      "outputs": []
    },
    {
      "cell_type": "markdown",
      "source": [
        "# **GRADIENT BOOSTING**"
      ],
      "metadata": {
        "id": "Nibw_8oq3jHm"
      }
    },
    {
      "cell_type": "code",
      "source": [
        "#import the packages\n",
        "from sklearn.ensemble import GradientBoostingRegressor\n",
        "# Create an instance of the GradientBoostingRegressor\n",
        "gb_model= GradientBoostingRegressor()\n",
        "gb_model.fit(X_train,y_train)"
      ],
      "metadata": {
        "id": "fcPyY0bp3ou5"
      },
      "execution_count": null,
      "outputs": []
    },
    {
      "cell_type": "code",
      "source": [
        "# Making predictions on train and test data\n",
        "y_pred_train_g = gb_model.predict(X_train)\n",
        "y_pred_test_g = gb_model.predict (X_test)"
      ],
      "metadata": {
        "id": "upr47zf94XR1"
      },
      "execution_count": null,
      "outputs": []
    },
    {
      "cell_type": "code",
      "source": [
        "#import the packages\n",
        "from sklearn.metrics import mean_squared_error\n",
        "print(\"Model Score:\", gb_model.score(X_train,y_train))\n",
        "#calculate MSE\n",
        "MSE_gb =mean_squared_error(y_train, y_pred_train_g)\n",
        "print(\"MSE:\",MSE_gb)\n",
        "\n",
        "#calculate RMSE\n",
        "RMSE_gb=np.sqrt(MSE_gb)\n",
        "print(\"RMSE:\", RMSE_gb)\n",
        "\n",
        "#calculate MAE\n",
        "MAE_gb= mean_absolute_error(y_train, y_pred_train_g)\n",
        "print(\"MAE:\" ,MAE_gb)\n",
        "\n",
        "#import the packages\n",
        "from sklearn.metrics import r2_score\n",
        "#calculate r2 and adjusted r2\n",
        "r2_gb= r2_score(y_train, y_pred_train_g)\n",
        "print(\"R2:\",r2_gb)\n",
        "Adjusted_R2_gb= (1-(1-r2_score(y_train, y_pred_train_g))*((X_test.shape [0]-1)/(X_test.shape[0]-X_test.shape[1]-1)) )\n",
        "print(\"Adjusted R2:\",1-(1-r2_score(y_train, y_pred_train_g))*((X_test.shape[0]-1)/(X_test.shape[0]-X_test.shape[1]-1)) )"
      ],
      "metadata": {
        "id": "13e3wpS94fCB"
      },
      "execution_count": null,
      "outputs": []
    },
    {
      "cell_type": "markdown",
      "source": [
        "Looks like our train set's score value is 0.87 that means our model is able to capture most of the data variance. Lets save it in a dataframe for later comparisions."
      ],
      "metadata": {
        "id": "GRNuHeJJ5fye"
      }
    },
    {
      "cell_type": "code",
      "source": [
        " #storing the test set metrics value in a dataframe for later comparison\n",
        "dict2={'Model':'Linear regression',\n",
        "       'MAE': round((MAE_l),3),\n",
        "       'MSE': round((MSE_l),3),\n",
        "       'RMSE': round((RMSE_l),3),\n",
        "      'R2_score':round((r2_l),3),\n",
        "      'Adjusted R2':round((Adjusted_R2_l ),2)\n",
        "}\n",
        "\n",
        "\n",
        "training_df=training_df.append(dict1,ignore_index=True)"
      ],
      "metadata": {
        "id": "J7Znxs-35-wd"
      },
      "execution_count": null,
      "outputs": []
    },
    {
      "cell_type": "code",
      "source": [
        "# import the packages\n",
        "from sklearn.metrics import mean_squared_error\n",
        "#calculate MSE\n",
        "MSE_gb= mean_squared_error(y_test, y_pred_test_g)\n",
        "print(\"MSE:\",MSE_gb)\n",
        "\n",
        "#calculate RMSE\n",
        "RMSE_gb-np.sqrt(MSE_gb)\n",
        "print(\"RMSE:\", RMSE_gb)\n",
        "\n",
        "#calculate MAE\n",
        "MAE_gb =mean_absolute_error(y_test, y_pred_test_g)\n",
        "print(\"MAE:\",MAE_gb)\n",
        "\n",
        "#import the packages\n",
        "from sklearn.metrics import r2_score\n",
        "#calculate r2 and adjusted r2\n",
        "r2_gb= r2_score((y_test), (y_pred_test_g))\n",
        "print(\"R2 :\",r2_gb)\n",
        "Adjusted_R2_gb =(1-(1-r2_score((y_test), (y_pred_test_g)))*((X_test.shape[0]-1)/(X_test.shape[0]-X_test.shape[1]-1)))\n",
        "print(\"Adjusted R2:\",1-(1-r2_score((y_test), (y_pred_test_g)))*((X_test.shape[0]-1)/(X_test.shape [0]-X_test.shape[1]-1)))"
      ],
      "metadata": {
        "id": "ivR8lq806h1y"
      },
      "execution_count": null,
      "outputs": []
    },
    {
      "cell_type": "markdown",
      "source": [
        "The r2_score for the set is 0.86. This means our linear model is performing well on the data. Letus try to visualize our residuals and see if there is heteroscedasticity(unequal variance or sctter)"
      ],
      "metadata": {
        "id": "UFOrqzLR7Hfc"
      }
    },
    {
      "cell_type": "code",
      "source": [
        " #storing the test set metrics value in a dataframe for later comparison\n",
        "dict2={'Model':'Linear regression',\n",
        "       'MAE': round((MAE_l),3),\n",
        "       'MSE': round((MSE_l),3),\n",
        "       'RMSE': round((RMSE_l),3),\n",
        "      'R2_score':round((r2_l),3),\n",
        "      'Adjusted R2':round((Adjusted_R2_l ),2)\n",
        "}\n",
        "\n",
        "\n",
        "test_df=test_df.append(dict1,ignore_index=True)"
      ],
      "metadata": {
        "id": "YkJs7A9j7zfG"
      },
      "execution_count": null,
      "outputs": []
    },
    {
      "cell_type": "code",
      "source": [
        "# Heteroscadacity\n",
        "plt.scatter((y_pred_test_g), (y_test)-(y_pred_test_g))\n",
        "plt.xlabel('Predicted values')\n",
        "plt.ylabel('Residuals')\n",
        "plt.title('Residual Plot')\n",
        "plt.show()"
      ],
      "metadata": {
        "id": "1GUKM1dh8HbU"
      },
      "execution_count": null,
      "outputs": []
    },
    {
      "cell_type": "code",
      "source": [
        "gb_model.feature_importances_"
      ],
      "metadata": {
        "id": "VZE8slnR8XsB"
      },
      "execution_count": null,
      "outputs": []
    },
    {
      "cell_type": "code",
      "source": [
        "importances = gb_model.feature_importances_\n",
        "importance_dict ={'Feature': list(X_train.columns),\n",
        "                 'Feature Importance': importances}\n",
        "importance_df = pd.DataFrame(importance_dict)"
      ],
      "metadata": {
        "id": "mTkBEFTy8wWA"
      },
      "execution_count": null,
      "outputs": []
    },
    {
      "cell_type": "code",
      "source": [
        "importance_df['Feature Importance']=round(importance_df['Feature Importance'],2)"
      ],
      "metadata": {
        "id": "KxaW8F4v9P77"
      },
      "execution_count": null,
      "outputs": []
    },
    {
      "cell_type": "code",
      "source": [
        "importance_df.head()\n"
      ],
      "metadata": {
        "id": "ldXLcjTl9x3-"
      },
      "execution_count": null,
      "outputs": []
    },
    {
      "cell_type": "code",
      "source": [
        "importance_df.sort_values(by=['Feature Importance'],ascending=False)"
      ],
      "metadata": {
        "id": "eWtRZ6zc97wh"
      },
      "execution_count": null,
      "outputs": []
    },
    {
      "cell_type": "code",
      "source": [
        "gb_model.fit(X_train,y_train)"
      ],
      "metadata": {
        "id": "zEDPV2QB-iI9"
      },
      "execution_count": null,
      "outputs": []
    },
    {
      "cell_type": "code",
      "source": [
        "features = X_train.columns\n",
        "importance = gb_model.feature_importances_\n",
        "indices = np.argsort (importances)\n"
      ],
      "metadata": {
        "id": "WARQquoh-_hP"
      },
      "execution_count": null,
      "outputs": []
    },
    {
      "cell_type": "code",
      "source": [
        "#Plot the figure\n",
        "plt.figure(figsize=(10,20))\n",
        "plt.title('Feature Importance')\n",
        "plt.barh(range(len(indices)), importances [indices], color='blue', align='center')\n",
        "plt.yticks (range(len(indices)), [features[i] for i in indices])\n",
        "plt.xlabel('Relative Importance')\n",
        "plt.show()"
      ],
      "metadata": {
        "id": "xyXfbEUj_SLE"
      },
      "execution_count": null,
      "outputs": []
    },
    {
      "cell_type": "markdown",
      "source": [
        "# **Hyperparameter tuning**"
      ],
      "metadata": {
        "id": "9glZ3KP3AFFP"
      }
    },
    {
      "cell_type": "markdown",
      "source": [
        "Before proceding to try next models, let us try to tune some hyperparameters and see if the performance of our model improves.\n",
        "Hyperparameter tuning is the process of choosing a set of optimal hyperparameters for a learning algorithm. A hyperparameter is a model\n",
        "argument whose value is set before the learning process begins. The key to machine learning algorithms is hyperparameter tuning."
      ],
      "metadata": {
        "id": "WX7ijjKHAPZj"
      }
    },
    {
      "cell_type": "markdown",
      "source": [
        "Using GridSearchCV"
      ],
      "metadata": {
        "id": "VmlUb41JARhP"
      }
    },
    {
      "cell_type": "markdown",
      "source": [
        "GridSearchCV helps to loop through predefined hyperparameters and fit the model on the training set. So, in the end, we can select the best\n",
        "parameters from the listed hyperparameters."
      ],
      "metadata": {
        "id": "1ixusLtI0pqI"
      }
    },
    {
      "cell_type": "markdown",
      "source": [
        "### Gradient Boosting Regressor with GridSearchCV"
      ],
      "metadata": {
        "id": "uKlcfxrKAhpy"
      }
    },
    {
      "cell_type": "markdown",
      "source": [
        "#### Provide the range of values for chosen hyperparameters"
      ],
      "metadata": {
        "id": "_kORgU-AAt-B"
      }
    },
    {
      "cell_type": "code",
      "source": [
        "# Number of trees\n",
        "n_estimators = [50,80,100]\n",
        "\n",
        "# Maximum depth of trees\n",
        "max_depth = [4,6,8]\n",
        "\n",
        "# Minimum number of samples required to split a node\n",
        "min_samples_split= [50,100,150]\n",
        "\n",
        "# Minimum number of samples required at each leaf node\n",
        "min_samples_leaf =[40,50]\n",
        "\n",
        "#Hyperparameter Grid\n",
        "param_dict= {'n_estimators': n_estimators,\n",
        "             'max_depth':max_depth,\n",
        "             'min_samples_split':min_samples_split,\n",
        "             'min_samples_leaf,':min_samples_leaf}"
      ],
      "metadata": {
        "id": "mXQt1URNBJMK"
      },
      "execution_count": null,
      "outputs": []
    },
    {
      "cell_type": "code",
      "source": [
        "param_dict"
      ],
      "metadata": {
        "id": "LqbUh9QfCqdk"
      },
      "execution_count": null,
      "outputs": []
    },
    {
      "cell_type": "markdown",
      "source": [
        "# **Importing Gradient Boosting Regressor**"
      ],
      "metadata": {
        "id": "U7ku20KgC9om"
      }
    },
    {
      "cell_type": "code",
      "source": [
        "from sklearn.model_selection import GridSearchCV\n",
        "from sklearn.ensemble import GradientBoostingRegressor\n",
        "\n",
        "# Create an instance of the GradientBoostingRegressor\n",
        "gb_model= GradientBoostingRegressor()\n",
        "\n",
        "# Grid search\n",
        "param_dict = {'learning_rate': [0.1, 0.01],\n",
        "              'n_estimators': [50, 100],\n",
        "              'max_depth': [3, 5]}\n",
        "\n",
        "gb_grid =GridSearchCV(estimator=gb_model,\n",
        "                      param_grid=param_dict,\n",
        "                      cv=3, verbose=2, n_jobs=-1)\n",
        "gb_grid.fit(X_train, y_train)"
      ],
      "metadata": {
        "id": "WA8KyG9mDJXi"
      },
      "execution_count": null,
      "outputs": []
    },
    {
      "cell_type": "code",
      "source": [
        "gb_grid.best_estimator_"
      ],
      "metadata": {
        "id": "H9RiemjmD3vV"
      },
      "execution_count": null,
      "outputs": []
    },
    {
      "cell_type": "code",
      "source": [
        "gb_optimal_model = gb_grid.best_estimator_"
      ],
      "metadata": {
        "id": "ndmSmXYED-XK"
      },
      "execution_count": null,
      "outputs": []
    },
    {
      "cell_type": "code",
      "source": [
        "gb_grid.best_params_"
      ],
      "metadata": {
        "id": "8suzqbR2EHi5"
      },
      "execution_count": null,
      "outputs": []
    },
    {
      "cell_type": "code",
      "source": [
        "#Making predictions on train and test data\n",
        "y_pred_train_g_g = gb_optimal_model.predict(X_train)\n",
        "y_pred_g_g=gb_optimal_model.predict(X_test)"
      ],
      "metadata": {
        "id": "cwMGp2EUErEB"
      },
      "execution_count": null,
      "outputs": []
    },
    {
      "cell_type": "code",
      "source": [
        "from sklearn.metrics import mean_squared_error\n",
        "print(\"Model Score:\",gb_optimal_model.score(X_train,y_train))\n",
        "MSE_gbh= mean_squared_error(y_train, y_pred_train_g_g)\n",
        "print(\"MSE:\",MSE_gbh)\n",
        "\n",
        "RMSE_gbh=np.sqrt(MSE_gbh)\n",
        "print(\"RMSE:\", RMSE_gbh)\n",
        "\n",
        "MAE_gbh= mean_absolute_error(y_train, y_pred_train_g_g)\n",
        "print(\"MAE:\",MAE_gbh)\n",
        "\n",
        "from sklearn.metrics import r2_score\n",
        "r2_gbh= r2_score(y_train, y_pred_train_g_g)\n",
        "print(\"R2:\",r2_gbh)\n",
        "Adjusted_R2_gbh= (1-(1-r2_score(y_train, y_pred_train_g_g))*((X_test.shape[0]-1)/(X_test.shape[0]-X_test.shape[1]-1)))\n",
        "print(\"Adjusted R2 :\",1-(1-r2_score(y_train, y_pred_train_g_g))*((X_test.shape[0]-1)/(X_test.shape[0]-X_test.shape[1]-1)))"
      ],
      "metadata": {
        "id": "Hm7SBZsxEqsU"
      },
      "execution_count": null,
      "outputs": []
    },
    {
      "cell_type": "markdown",
      "source": [
        "Looks like our train sets r2 value is 0.94 that means our model is able to capture most of the data variance.Lets save it in a dataframe for later comparisions."
      ],
      "metadata": {
        "id": "3LAqiZyHF76S"
      }
    },
    {
      "cell_type": "code",
      "source": [
        " #storing the test set metrics value in a dataframe for later comparison\n",
        "dict2={'Model':'Linear regression',\n",
        "       'MAE': round((MAE_l),3),\n",
        "       'MSE': round((MSE_l),3),\n",
        "       'RMSE': round((RMSE_l),3),\n",
        "      'R2_score':round((r2_l),3),\n",
        "      'Adjusted R2':round((Adjusted_R2_l ),2)\n",
        "}\n",
        "\n",
        "\n",
        "traning_df=training_df.append(dict1,ignore_index=True)"
      ],
      "metadata": {
        "id": "6BdBlZnhGf8O"
      },
      "execution_count": null,
      "outputs": []
    },
    {
      "cell_type": "code",
      "source": [
        "from sklearn.metrics import mean_squared_error\n",
        "MSE_gbh= mean_squared_error(y_test, y_pred_g_g)\n",
        "print(\"MSE:\",MSE_gbh)\n",
        "\n",
        "RMSE_gbh=np.sqrt(MSE_gbh)\n",
        "print(\"RMSE:\", RMSE_gbh)\n",
        "\n",
        "MAE_gbh= mean_absolute_error(y_test, y_pred_g_g)\n",
        "print(\"MAE:\",MAE_gbh)\n",
        "\n",
        "from sklearn.metrics import r2_score\n",
        "r2_gbh= r2_score((y_test), (y_pred_g_g))\n",
        "print(\"R2:\",r2_gbh)\n",
        "Adjusted_R2_gbh=(1-(1-r2_score(y_test, y_pred_g_g))*((X_test.shape [0]-1)/(X_test.shape[0]-X_test.shape[1]-1)))\n",
        "print(\"Adjusted R2:\",1-(1-r2_score((y_test), (y_pred_g_g)))*((X_test.shape[0]-1)/(X_test.shape[0]-X_test.shape[1]-1)))"
      ],
      "metadata": {
        "id": "U5k-XWWCG2pM"
      },
      "execution_count": null,
      "outputs": []
    },
    {
      "cell_type": "markdown",
      "source": [
        "Hyperparameter tunning certainly showed a better result, r2 was 0.91 on test and MAE and RMSE was lowered.Overall model show good result."
      ],
      "metadata": {
        "id": "t1j1hwFmHuVT"
      }
    },
    {
      "cell_type": "code",
      "source": [
        " #storing the test set metrics value in a dataframe for later comparison\n",
        "dict2={'Model':'Linear regression',\n",
        "       'MAE': round((MAE_l),3),\n",
        "       'MSE': round((MSE_l),3),\n",
        "       'RMSE': round((RMSE_l),3),\n",
        "      'R2_score':round((r2_l),3),\n",
        "      'Adjusted R2':round((Adjusted_R2_l ),2)\n",
        "}\n",
        "\n",
        "\n",
        "test_df=test_df.append(dict1,ignore_index=True)"
      ],
      "metadata": {
        "id": "FCamj5X-HyJU"
      },
      "execution_count": null,
      "outputs": []
    },
    {
      "cell_type": "code",
      "source": [
        "# Heteroscadacity\n",
        "plt.scatter((y_pred_g_g), (y_test)-(y_pred_g_g))\n",
        "plt.xlabel('Predicted values')\n",
        "plt.ylabel('Residuals')\n",
        "plt.title('Residual Plot')\n",
        "plt.show()"
      ],
      "metadata": {
        "id": "zaOD1gfEIo3-"
      },
      "execution_count": null,
      "outputs": []
    },
    {
      "cell_type": "code",
      "source": [
        "gb_optimal_model.feature_importances_"
      ],
      "metadata": {
        "id": "_ToDsNMkI1P1"
      },
      "execution_count": null,
      "outputs": []
    },
    {
      "cell_type": "markdown",
      "source": [
        "# **FEATURE STORED**"
      ],
      "metadata": {
        "id": "T-duP750JLia"
      }
    },
    {
      "cell_type": "code",
      "source": [
        "importances = gb_optimal_model.feature_importances_\n",
        "importance_dict = {'Feature' : list(X_train.columns),\n",
        "                  'Feature Importance': importances}\n",
        "importance_df = pd.DataFrame(importance_dict)\n"
      ],
      "metadata": {
        "id": "ymnQcfrgJLia"
      },
      "execution_count": null,
      "outputs": []
    },
    {
      "cell_type": "code",
      "source": [
        "importance_df['Feature Importance'] = round(importance_df['Feature Importance'],2)"
      ],
      "metadata": {
        "id": "sQ-zvrfBJLib"
      },
      "execution_count": null,
      "outputs": []
    },
    {
      "cell_type": "code",
      "source": [
        "importance_df.sort_values (by=['Feature Importance'], ascending=False)"
      ],
      "metadata": {
        "id": "NQJbHCIaJLib"
      },
      "execution_count": null,
      "outputs": []
    },
    {
      "cell_type": "code",
      "source": [
        "importance_df.sort_values(by=['Feature Importance'],ascending=False)"
      ],
      "metadata": {
        "id": "XTeXf_RsKYFI"
      },
      "execution_count": null,
      "outputs": []
    },
    {
      "cell_type": "code",
      "source": [
        "gb_model.fit(X_train, y_train)"
      ],
      "metadata": {
        "id": "LRAqu4EqK3w2"
      },
      "execution_count": null,
      "outputs": []
    },
    {
      "cell_type": "code",
      "source": [
        "features = X_train.columns\n",
        "importances = gb_model.feature_importances_\n",
        "indices = np.argsort (importances)"
      ],
      "metadata": {
        "id": "Qv4SoUWFLAJO"
      },
      "execution_count": null,
      "outputs": []
    },
    {
      "cell_type": "code",
      "source": [
        "#Plot the figure\n",
        "plt.figure(figsize=(10,20))\n",
        "plt.title('Feature Importance')\n",
        "plt.barh(range(len (indices)), importances[indices], color='blue', align='center')\n",
        "plt.yticks (range (len (indices)), [features[i] for i in indices])\n",
        "plt.xlabel(\"Relative Importance\")\n",
        "plt.show()"
      ],
      "metadata": {
        "id": "lG8k-o0NLFpG"
      },
      "execution_count": null,
      "outputs": []
    },
    {
      "cell_type": "markdown",
      "source": [
        "# **Conclusion**"
      ],
      "metadata": {
        "id": "gCX9965dhzqZ"
      }
    },
    {
      "cell_type": "markdown",
      "source": [
        "During our analysis, we conducted an initial exploratory data analysis (EDA) on all the features in our dataset. Firstly, we analysed our\n",
        "dependent variable Rented Bike count and applied transformations as necessar. We then examined the categorical variables and removed\n",
        "those with majority of one class. We also studied the numerical variables, calculated their correlations, distribution and the their relationships\n",
        "with the dependent variable. Additionally we removed some numerical features that contained mostly 0 values and applied one-hot encoding to\n",
        "the categorical variables.\n",
        "\n",
        "Subsequently, we employed 7 machine learning algorithms including Linear Regression Lasso, Ridge, Elastic Net, Decision Tree, Random Forest\n",
        "and Gradient Booster. We also performed hyperparameter tuning to enhance the performance of our models. The evaluation of our models\n",
        "resulted in the following findings:"
      ],
      "metadata": {
        "id": "Fjb1IsQkh3yE"
      }
    },
    {
      "cell_type": "code",
      "source": [
        "# displaying the results of evaluation metric values for all models\n",
        "result=pd.concat([training_df,test_df], keys=['Training set', 'Test set'])\n",
        "result"
      ],
      "metadata": {
        "id": "2csV-CqpMlC6"
      },
      "execution_count": null,
      "outputs": []
    },
    {
      "cell_type": "markdown",
      "source": [
        "We train a model to predict the number of rented bike count in given ither conditions. First, we do Exploratory Data Analysis on the data set.\n",
        "We look for null values that is not found in dataset and outliers and appropriately modify them. We also perform correlation analysis to extract\n",
        "out the important and relevant feature set and!\n",
        "* Gradient Boosting gridsearchcv model\n",
        "* Temperatue, Functioning Day Yes\n",
        "Bike demand shows peek around 8-9A\n",
        "* People prefer to rent bike more in\n",
        "Bike demand is more on clear days than\n",
        "* Temperature range from 22 to 25(C)For rainy of more demand for bike.\n",
        "\n",
        "therefore it can be used to solve this problem.\n",
        "da dring factors for the Bike rent demand.\n",
        "Although the current analysis may be insightful it is important to note that the data\n",
        "dependent and variables such as temperature\n",
        "windspeed and solar radiation may not always remain consistent. As a restill there may be situations where the model fails to perform well. As\n",
        "field of machine learning is constantly evolving, it is necessary to stay up to date with the l est developments and be prepared to handle\n",
        "unexpected scenarios. Maintaining a strong understanding of Machine Learning concepts will undoubtely provide an advantage in staying\n",
        "ahead in the future."
      ],
      "metadata": {
        "id": "BVKsCxX2Msq-"
      }
    },
    {
      "cell_type": "markdown",
      "source": [
        "### ***Hurrah! You have successfully completed your Machine Learning Capstone Project !!!***"
      ],
      "metadata": {
        "id": "gIfDvo9L0UH2"
      }
    }
  ]
}